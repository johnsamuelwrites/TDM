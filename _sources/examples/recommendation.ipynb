{
 "cells": [
  {
   "cell_type": "markdown",
   "id": "9011848a-5aca-451b-9303-113f363b8c92",
   "metadata": {},
   "source": [
    "# Recommendation System"
   ]
  },
  {
   "cell_type": "markdown",
   "id": "b04d2f22-ebff-4990-bd80-c2766b7da53b",
   "metadata": {},
   "source": [
    "Two approaches to build a recommendation system with some common processes are :\n",
    "1. Classfication Algorithms\n",
    "2. Clustering Algorithms"
   ]
  },
  {
   "cell_type": "markdown",
   "id": "829270e4-267c-44f4-9fca-67c0a1e4f961",
   "metadata": {},
   "source": [
    "![](../images/DataMiningProject.png)"
   ]
  },
  {
   "cell_type": "markdown",
   "id": "f642c61a-2f40-44b5-922d-382c6058d7c3",
   "metadata": {},
   "source": [
    "## Using Clustering algorithm"
   ]
  },
  {
   "cell_type": "code",
   "execution_count": 1,
   "id": "cf8239aa-af6a-4b93-8ed6-21f446eb4877",
   "metadata": {},
   "outputs": [
    {
     "name": "stdout",
     "output_type": "stream",
     "text": [
      "Recommended items:\n",
      "   Color Category       Size       Type  Cluster\n",
      "8   blue   people     medium   portrait        0\n",
      "0  green   nature  thumbnail  landscape        0\n",
      "6   blue   nature  thumbnail   portrait        0\n"
     ]
    }
   ],
   "source": [
    "from sklearn.cluster import KMeans\n",
    "from sklearn.preprocessing import LabelEncoder\n",
    "import pandas as pd\n",
    "\n",
    "# Sample data\n",
    "data = [\n",
    "    [\"green\", \"nature\", \"thumbnail\", \"landscape\"],\n",
    "    [\"blue\", \"architecture\", \"medium\", \"portrait\"],\n",
    "    [\"blue\", \"people\", \"medium\", \"landscape\"],\n",
    "    [\"yellow\", \"nature\", \"medium\", \"portrait\"],\n",
    "    [\"green\", \"nature\", \"thumbnail\", \"landscape\"],\n",
    "    [\"blue\", \"people\", \"medium\", \"landscape\"],\n",
    "    [\"blue\", \"nature\", \"thumbnail\", \"portrait\"],\n",
    "    [\"yellow\", \"architecture\", \"thumbnail\", \"landscape\"],\n",
    "    [\"blue\", \"people\", \"medium\", \"portrait\"],\n",
    "    [\"yellow\", \"nature\", \"medium\", \"landscape\"],\n",
    "    [\"yellow\", \"people\", \"thumbnail\", \"portrait\"],\n",
    "    [\"blue\", \"people\", \"medium\", \"landscape\"],\n",
    "    [\"red\", \"architecture\", \"thumbnail\", \"landscape\"],\n",
    "]\n",
    "\n",
    "# Encode categorical features\n",
    "label_encoders = [LabelEncoder() for _ in range(len(data[0]))]\n",
    "encoded_data = []\n",
    "for i, column in enumerate(zip(*data)):\n",
    "    encoded_data.append(label_encoders[i].fit_transform(column))\n",
    "\n",
    "X = list(zip(*encoded_data))  # Features\n",
    "\n",
    "# Clustering\n",
    "k = 2  # Number of clusters\n",
    "kmeans = KMeans(n_clusters=k, n_init=10)\n",
    "kmeans.fit(X)\n",
    "clusters = kmeans.labels_\n",
    "\n",
    "# Add cluster labels to the original data\n",
    "data_with_clusters = pd.DataFrame(data, columns=[\"Color\", \"Category\", \"Size\", \"Type\"])\n",
    "data_with_clusters[\"Cluster\"] = clusters\n",
    "\n",
    "# Recommendation function\n",
    "def recommend_items(cluster, data_with_clusters):\n",
    "    items_in_cluster = data_with_clusters[data_with_clusters[\"Cluster\"] == cluster]\n",
    "    recommended_items = items_in_cluster.sample(n=3)  # Sample 3 items from the cluster\n",
    "    return recommended_items\n",
    "\n",
    "# Example usage\n",
    "user_interaction = [\"green\", \"nature\", \"thumbnail\", \"landscape\"]  # Assuming user interacted with this item\n",
    "encoded_interaction = [label_encoders[i].transform([val])[0] for i, val in enumerate(user_interaction)]\n",
    "cluster = kmeans.predict([encoded_interaction])[0]\n",
    "recommendations = recommend_items(cluster, data_with_clusters)\n",
    "print(\"Recommended items:\")\n",
    "print(recommendations)\n"
   ]
  },
  {
   "cell_type": "markdown",
   "id": "03db3717-92dc-48c0-818d-a088d0e42078",
   "metadata": {},
   "source": [
    "## Using classification algorithm"
   ]
  },
  {
   "cell_type": "code",
   "execution_count": 2,
   "id": "c55702d2-b1e1-4443-b5b1-d4a1075c31be",
   "metadata": {},
   "outputs": [
    {
     "name": "stdout",
     "output_type": "stream",
     "text": [
      "Accuracy: 0.6666666666666666\n",
      "Prediction for the sample item: Favorite\n"
     ]
    }
   ],
   "source": [
    "from sklearn.model_selection import train_test_split\n",
    "from sklearn import svm\n",
    "from sklearn.preprocessing import LabelEncoder\n",
    "from sklearn.metrics import accuracy_score\n",
    "\n",
    "# Sample data\n",
    "data = [\n",
    "    [\"green\", \"nature\", \"thumbnail\", \"landscape\"],\n",
    "    [\"blue\", \"architecture\", \"medium\", \"portrait\"],\n",
    "    [\"blue\", \"people\", \"medium\", \"landscape\"],\n",
    "    [\"yellow\", \"nature\", \"medium\", \"portrait\"],\n",
    "    [\"green\", \"nature\", \"thumbnail\", \"landscape\"],\n",
    "    [\"blue\", \"people\", \"medium\", \"landscape\"],\n",
    "    [\"blue\", \"nature\", \"thumbnail\", \"portrait\"],\n",
    "    [\"yellow\", \"architecture\", \"thumbnail\", \"landscape\"],\n",
    "    [\"blue\", \"people\", \"medium\", \"portrait\"],\n",
    "    [\"yellow\", \"nature\", \"medium\", \"landscape\"],\n",
    "    [\"yellow\", \"people\", \"thumbnail\", \"portrait\"],\n",
    "    [\"blue\", \"people\", \"medium\", \"landscape\"],\n",
    "    [\"red\", \"architecture\", \"thumbnail\", \"landscape\"],\n",
    "]\n",
    "result = [\n",
    "    \"Favorite\",\n",
    "    \"NotFavorite\",\n",
    "    \"Favorite\",\n",
    "    \"Favorite\",\n",
    "    \"Favorite\",\n",
    "    \"Favorite\",\n",
    "    \"Favorite\",\n",
    "    \"NotFavorite\",\n",
    "    \"NotFavorite\",\n",
    "    \"Favorite\",\n",
    "    \"Favorite\",\n",
    "    \"NotFavorite\",\n",
    "    \"NotFavorite\",\n",
    "]\n",
    "\n",
    "# Encode categorical features and labels\n",
    "label_encoders = [LabelEncoder() for _ in range(len(data[0]))]\n",
    "encoded_data = []\n",
    "for i, column in enumerate(zip(*data)):\n",
    "    encoded_data.append(label_encoders[i].fit_transform(column))\n",
    "\n",
    "X = list(zip(*encoded_data))  # Features\n",
    "y = result  # Labels\n",
    "\n",
    "# Split the data into training and testing sets\n",
    "X_train, X_test, y_train, y_test = train_test_split(X, y, test_size=0.2, random_state=42)\n",
    "\n",
    "# Train the logistic regression classifier\n",
    "classifier = svm.SVC()\n",
    "classifier.fit(X_train, y_train)\n",
    "\n",
    "# Predictions\n",
    "y_pred = classifier.predict(X_test)\n",
    "\n",
    "# Evaluate the classifier\n",
    "accuracy = accuracy_score(y_test, y_pred)\n",
    "print(f\"Accuracy: {accuracy}\")\n",
    "\n",
    "# Sample prediction\n",
    "sample_item = [\"green\", \"nature\", \"thumbnail\", \"landscape\"]  # Sample item attributes\n",
    "encoded_item = [label_encoders[i].transform([val])[0] for i, val in enumerate(sample_item)]\n",
    "prediction = classifier.predict([encoded_item])[0]\n",
    "print(f\"Prediction for the sample item: {prediction}\")\n"
   ]
  }
 ],
 "metadata": {
  "kernelspec": {
   "display_name": "Python 3 (ipykernel)",
   "language": "python",
   "name": "python3"
  },
  "language_info": {
   "codemirror_mode": {
    "name": "ipython",
    "version": 3
   },
   "file_extension": ".py",
   "mimetype": "text/x-python",
   "name": "python",
   "nbconvert_exporter": "python",
   "pygments_lexer": "ipython3",
   "version": "3.11.4"
  }
 },
 "nbformat": 4,
 "nbformat_minor": 5
}
