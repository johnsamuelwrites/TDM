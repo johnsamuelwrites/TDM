{
 "cells": [
  {
   "cell_type": "code",
   "execution_count": null,
   "id": "eb959427",
   "metadata": {},
   "outputs": [],
   "source": [
    "import urllib.request\n",
    "import json\n",
    "import pandas as pd\n",
    "\n",
    "propertyid = \"Property:P856\"\n",
    "url = (\n",
    "    \"https://www.wikidata.org/w/api.php?action=query&prop=revisions&titles=\"\n",
    "    + propertyid\n",
    "    + \"&rvprop=timestamp|comment|ids&rvlimit=500&format=json\"\n",
    ")\n",
    "response = urllib.request.urlopen(url)\n",
    "responsedata = json.loads(response.read().decode(\"utf-8\"))"
   ]
  },
  {
   "cell_type": "code",
   "execution_count": null,
   "id": "448ded27",
   "metadata": {},
   "outputs": [],
   "source": [
    "array = []\n",
    "\n",
    "for data in responsedata[\"query\"][\"pages\"]:\n",
    "    for revision in responsedata[\"query\"][\"pages\"][data][\"revisions\"]:\n",
    "        print(revision.keys())\n",
    "        break"
   ]
  },
  {
   "cell_type": "code",
   "execution_count": null,
   "id": "c3b5ad42-bc2f-488d-9c83-f576a437155b",
   "metadata": {},
   "outputs": [],
   "source": [
    "result = list(responsedata[\"query\"][\"pages\"].values())[0]\n",
    "revisions = result[\"revisions\"]\n",
    "revision = result[\"revisions\"][0].keys()\n",
    "revision"
   ]
  },
  {
   "cell_type": "code",
   "execution_count": null,
   "id": "04087b61",
   "metadata": {},
   "outputs": [],
   "source": [
    "array = []\n",
    "\n",
    "for revision in revisions:\n",
    "    array.append([revision[\"timestamp\"], revision[\"comment\"]])"
   ]
  },
  {
   "cell_type": "code",
   "execution_count": null,
   "id": "d30e6fa3",
   "metadata": {},
   "outputs": [],
   "source": [
    "array[:1]"
   ]
  },
  {
   "cell_type": "code",
   "execution_count": null,
   "id": "f4aafcfa",
   "metadata": {},
   "outputs": [],
   "source": [
    "dataframe = pd.DataFrame(array, columns=[\"timestamp\", \"modification\"])\n",
    "dataframe['timestamp'] = pd.to_datetime(dataframe['timestamp'], format='%Y-%m-%dT%H:%M:%SZ')\n",
    "dataframe = dataframe.astype(\n",
    "    dtype={\"modification\": \"<U1000\"}\n",
    ")\n",
    "\n",
    "dataframe[\"timestamp\"] = pd.to_datetime(\n",
    "    dataframe[\"timestamp\"],\n",
    "    format=\"%d/%m/%Y\",\n",
    "    unit=\"D\",\n",
    "    errors=\"raise\",\n",
    ").dt.normalize()\n",
    "dataframe"
   ]
  },
  {
   "cell_type": "code",
   "execution_count": null,
   "id": "023886eb",
   "metadata": {},
   "outputs": [],
   "source": [
    "group = dataframe.groupby(\"timestamp\").agg(\"count\").reset_index()\n",
    "group"
   ]
  },
  {
   "cell_type": "code",
   "execution_count": null,
   "id": "bf0219c3",
   "metadata": {},
   "outputs": [],
   "source": [
    "group.describe()"
   ]
  },
  {
   "cell_type": "code",
   "execution_count": null,
   "id": "2ac71c5d",
   "metadata": {},
   "outputs": [],
   "source": [
    "group.dtypes"
   ]
  },
  {
   "cell_type": "code",
   "execution_count": null,
   "id": "1a3b9b00",
   "metadata": {},
   "outputs": [],
   "source": [
    "group.modification.max()"
   ]
  },
  {
   "cell_type": "code",
   "execution_count": null,
   "id": "c3aa6857",
   "metadata": {},
   "outputs": [],
   "source": [
    "group.modification.min()"
   ]
  },
  {
   "cell_type": "code",
   "execution_count": null,
   "id": "54ea33ad-ec86-4509-a055-832d184e0aed",
   "metadata": {},
   "outputs": [],
   "source": [
    "import calplot\n",
    "\n",
    "days = group[\"timestamp\"]\n",
    "\n",
    "events = pd.Series(list(group[\"modification\"]), index=days)\n",
    "calplot.calplot(\n",
    "    events,\n",
    "    cmap=\"YlGn\",\n",
    "    yearlabel_kws={\"color\": \"black\"},\n",
    "    linewidth=0,\n",
    "    suptitle=\"Number of modifications per day (last 500)\",\n",
    ")"
   ]
  },
  {
   "cell_type": "code",
   "execution_count": null,
   "id": "3dd673a8",
   "metadata": {},
   "outputs": [],
   "source": [
    "import plotly.express as px\n",
    "\n",
    "fig = px.histogram(\n",
    "    group,\n",
    "    x=\"timestamp\",\n",
    "    y=\"modification\",\n",
    "    nbins=20,\n",
    "    labels={\"x\": \"month\", \"y\": \"count\"},\n",
    ")\n",
    "fig.update_layout(bargap=0.2)\n",
    "fig.show()"
   ]
  },
  {
   "cell_type": "code",
   "execution_count": null,
   "id": "18cd109a",
   "metadata": {},
   "outputs": [],
   "source": [
    "import plotly.express as px\n",
    "\n",
    "fig = px.scatter(\n",
    "    group, x=\"timestamp\", y=\"modification\", labels={\"x\": \"month\", \"y\": \"count\"}\n",
    ")\n",
    "fig.update_layout(bargap=0.2)\n",
    "fig.show()"
   ]
  },
  {
   "cell_type": "code",
   "execution_count": null,
   "id": "ea2b12df",
   "metadata": {},
   "outputs": [],
   "source": [
    "import plotly.express as px\n",
    "\n",
    "fig = px.histogram(group, x=\"modification\", histnorm=\"probability density\", nbins=20)\n",
    "fig.update_layout(bargap=0.2)\n",
    "fig.show()"
   ]
  },
  {
   "cell_type": "code",
   "execution_count": null,
   "id": "b7b23cea",
   "metadata": {},
   "outputs": [],
   "source": [
    "import sys\n",
    "from SPARQLWrapper import SPARQLWrapper, JSON\n",
    "\n",
    "endpoint_url = \"https://query.wikidata.org/sparql\"\n",
    "\n",
    "query = \"\"\"SELECT ?heritagesite ?label ?coordinates {\n",
    "  ?heritagesite wdt:P1435 wd:Q9259;\n",
    "        wdt:P17 wd:Q142;\n",
    "        rdfs:label ?label;\n",
    "        wdt:P625 ?coordinates.\n",
    "        FILTER (lang(?label)=\"en\")\n",
    "}\n",
    "LIMIT 100\n",
    "\"\"\"\n",
    "\n",
    "\n",
    "def get_results(endpoint_url, query):\n",
    "    user_agent = \"WDQS-example Python/%s.%s\" % (\n",
    "        sys.version_info[0],\n",
    "        sys.version_info[1],\n",
    "    )\n",
    "    sparql = SPARQLWrapper(endpoint_url, agent=user_agent)\n",
    "    sparql.setQuery(query)\n",
    "    sparql.setReturnFormat(JSON)\n",
    "    return sparql.query().convert()\n",
    "\n",
    "\n",
    "results = get_results(endpoint_url, query)\n",
    "\n",
    "array = []\n",
    "for result in results[\"results\"][\"bindings\"]:\n",
    "    array.append(\n",
    "        [\n",
    "            result[\"heritagesite\"][\"value\"],\n",
    "            result[\"label\"][\"value\"],\n",
    "            result[\"coordinates\"][\"value\"],\n",
    "        ]\n",
    "    )"
   ]
  },
  {
   "cell_type": "code",
   "execution_count": null,
   "id": "8748b229-f144-47dd-8b90-8cc2057878b7",
   "metadata": {},
   "outputs": [],
   "source": [
    "from shapely import wkt\n",
    "import geopandas as gp\n",
    "\n",
    "dataframe = pd.DataFrame(array, columns=[\"ID\", \"label\", \"coordinates\"])\n",
    "dataframe[\"coordinates\"] = dataframe[\"coordinates\"].apply(wkt.loads)\n",
    "\n",
    "geodataframe = gp.GeoDataFrame(dataframe, geometry=\"coordinates\")"
   ]
  },
  {
   "cell_type": "code",
   "execution_count": null,
   "id": "10bcb32c-72d7-4bcb-a605-4f3067db0155",
   "metadata": {},
   "outputs": [],
   "source": [
    "array[:1]"
   ]
  },
  {
   "cell_type": "code",
   "execution_count": null,
   "id": "754c0311-aa99-47d3-a8c7-e063d4f7f268",
   "metadata": {},
   "outputs": [],
   "source": [
    "geodataframe.dtypes"
   ]
  },
  {
   "cell_type": "code",
   "execution_count": null,
   "id": "aa4d480f-5a43-4a35-a4d9-e9ac73ab0199",
   "metadata": {},
   "outputs": [],
   "source": [
    "import folium\n",
    "\n",
    "map = folium.Map(location=[45.1093, 2.6753], zoom_start=6)\n",
    "geo_df_list = [[point.xy[1][0], point.xy[0][0]] for point in geodataframe.geometry]"
   ]
  },
  {
   "cell_type": "code",
   "execution_count": null,
   "id": "968919b2-f854-4c30-9ac5-e50fe8c5a116",
   "metadata": {},
   "outputs": [],
   "source": [
    "i = 0\n",
    "for coordinates in geo_df_list:\n",
    "    map.add_child(\n",
    "        folium.Marker(\n",
    "            location=coordinates,\n",
    "            icon=folium.Icon(color=\"green\"),\n",
    "            popup=\"Wikidata: <a target='_blank' href='\"\n",
    "            + str(geodataframe.ID[i])\n",
    "            + \"'>\"\n",
    "            + str(geodataframe.label[i]),\n",
    "        )\n",
    "    )\n",
    "    i = i + 1\n",
    "\n",
    "map"
   ]
  },
  {
   "cell_type": "code",
   "execution_count": null,
   "id": "44de8dde-35bd-41da-8b9a-208b4e99d303",
   "metadata": {},
   "outputs": [],
   "source": []
  }
 ],
 "metadata": {
  "kernelspec": {
   "display_name": "Python 3 (ipykernel)",
   "language": "python",
   "name": "python3"
  },
  "language_info": {
   "codemirror_mode": {
    "name": "ipython",
    "version": 3
   },
   "file_extension": ".py",
   "mimetype": "text/x-python",
   "name": "python",
   "nbconvert_exporter": "python",
   "pygments_lexer": "ipython3",
   "version": "3.10.6"
  },
  "toc-autonumbering": true,
  "toc-showmarkdowntxt": true
 },
 "nbformat": 4,
 "nbformat_minor": 5
}
