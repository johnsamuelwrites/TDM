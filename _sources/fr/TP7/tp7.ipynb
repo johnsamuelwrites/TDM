{
 "cells": [
  {
   "cell_type": "markdown",
   "id": "2c10696b-66ed-4cb3-8670-88eead6e0c6b",
   "metadata": {},
   "source": [
    "# TP 7\n",
    "\n",
    "## Objectifs"
   ]
  }
 ],
 "metadata": {
  "kernelspec": {
   "display_name": "Python 3 (ipykernel)",
   "language": "python",
   "name": "python3"
  },
  "language_info": {
   "codemirror_mode": {
    "name": "ipython",
    "version": 3
   },
   "file_extension": ".py",
   "mimetype": "text/x-python",
   "name": "python",
   "nbconvert_exporter": "python",
   "pygments_lexer": "ipython3",
   "version": "3.10.12"
  }
 },
 "nbformat": 4,
 "nbformat_minor": 5
}
