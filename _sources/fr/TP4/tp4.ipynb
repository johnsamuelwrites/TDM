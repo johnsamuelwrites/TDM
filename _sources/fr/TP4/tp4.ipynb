{
 "cells": [
  {
   "cell_type": "markdown",
   "metadata": {},
   "source": [
    "# TP 4\n",
    "\n",
    "## Objectifs\n",
    "\n",
    "### Travail sur les fonctions Python intégrées\n",
    "1. map()\n",
    "2. filter()\n",
    "3. reduce()\n",
    "\n",
    "\n",
    "### Multiprocessus\n",
    "1. multiprocessing.cpu_count\n",
    "2. multiprocessing.Pool\n",
    "3. map"
   ]
  },
  {
   "cell_type": "markdown",
   "metadata": {},
   "source": [
    "## Exercice 1 \\[★\\]\n",
    "\n",
    "Dans cet exercice, nous allons examiner la fonction intégrée de Python appelée filter() qui peut être utilisée pour sélectionner les éléments d'une collection correspondant à une condition particulière."
   ]
  },
  {
   "cell_type": "code",
   "execution_count": null,
   "metadata": {},
   "outputs": [],
   "source": [
    "# Initialization\n",
    "num = [i for i in range(1, 20)]\n",
    "print(num)"
   ]
  },
  {
   "cell_type": "markdown",
   "metadata": {},
   "source": [
    "Nous utiliserons la documentation disponible pour les différentes fonctions. \n",
    "Dans ce but, nous utiliserons un point d'interrogation (?) après le nom de la fonction ou d'une classe \n",
    "comme indiqué ci-dessous."
   ]
  },
  {
   "cell_type": "code",
   "execution_count": null,
   "metadata": {},
   "outputs": [],
   "source": [
    "?filter"
   ]
  },
  {
   "cell_type": "markdown",
   "metadata": {},
   "source": [
    "La fonction `filter(function, iterable)` prend deux paramètres : une fonction et un itérable. La fonction agit sur chaque élément d'un type de données itérable."
   ]
  },
  {
   "cell_type": "markdown",
   "metadata": {},
   "source": [
    "Dans le premier exemple, nous utilisons `None` comme premier paramètre. Dans ce cas, le filtre agira comme une fonction d'identité et retournera l'itérable."
   ]
  },
  {
   "cell_type": "code",
   "execution_count": null,
   "metadata": {},
   "outputs": [],
   "source": [
    "# Use of filter function with None as the first parameter\n",
    "num = [i for i in range(1, 20)]\n",
    "filtered = list(filter(None, num))\n",
    "print(filtered)"
   ]
  },
  {
   "cell_type": "markdown",
   "metadata": {},
   "source": [
    "Dans l'exemple suivant, nous allons filtrer les nombres pairs de la liste d'entrée.\n",
    "Notez que nous avons écrit une fonction even() qui renvoie `True` si le nombre d'entrée est pair, \n",
    "sinon `False`.\n",
    "\n",
    "`filer()` retournera les éléments de la liste qui ont retourné `True`lorsqu'ils ont été passés comme argument à la fonction even()."
   ]
  },
  {
   "cell_type": "code",
   "execution_count": null,
   "metadata": {},
   "outputs": [],
   "source": [
    "def even(item):\n",
    "    if item % 2 == 0:\n",
    "        return True\n",
    "    return False\n",
    "\n",
    "\n",
    "num = [i for i in range(1, 20)]\n",
    "filtered = list(filter(even, num))\n",
    "print(filtered)"
   ]
  },
  {
   "cell_type": "markdown",
   "metadata": {},
   "source": [
    "Dans l'exemple suivant, nous avons une nouvelle fonction `odd()` qui renvoie `True` lorsque le nombre en entrée est impair.\n",
    "\n",
    "Nous utilisons cette nouvelle fonction comme entrée de la fonction `filter()`."
   ]
  },
  {
   "cell_type": "code",
   "execution_count": null,
   "metadata": {},
   "outputs": [],
   "source": [
    "def odd(item):\n",
    "    if item % 2 == 0:\n",
    "        return False\n",
    "    return True\n",
    "\n",
    "\n",
    "num = [i for i in range(1, 20)]\n",
    "filtered = list(filter(odd, num))\n",
    "print(filtered)"
   ]
  },
  {
   "cell_type": "markdown",
   "metadata": {},
   "source": [
    "**Question**  Écrivez un programme utilisant filter() qui prend une liste de chaînes de caractères et filtre les palindromes."
   ]
  },
  {
   "cell_type": "markdown",
   "metadata": {},
   "source": [
    "#### Filtrage avec des structures imbriquées\n",
    "La fonction `filter()` peut également être appliquée à des structures de données complexes comme des listes de dictionnaires ou de tuples.\n",
    "\n",
    "On vous donne une liste de dictionnaires représentant des employés, chacun ayant les clés `name`, `age` et `department` :"
   ]
  },
  {
   "cell_type": "code",
   "execution_count": null,
   "metadata": {},
   "outputs": [],
   "source": [
    "employees = [\n",
    "    {\"name\": \"Alice\", \"age\": 28, \"department\": \"HR\"},\n",
    "    {\"name\": \"Bob\", \"age\": 35, \"department\": \"Engineering\"},\n",
    "    {\"name\": \"Charlie\", \"age\": 22, \"department\": \"Marketing\"},\n",
    "    {\"name\": \"David\", \"age\": 45, \"department\": \"Engineering\"},\n",
    "    {\"name\": \"Pierre\", \"age\": 29, \"department\": \"HR\"}\n",
    "]"
   ]
  },
  {
   "cell_type": "markdown",
   "metadata": {},
   "source": [
    "**Questions**\n",
    "  \n",
    "1. **Filtrage par département :** Écrivez un programme qui utilise `filter()` pour créer une liste d'employés qui travaillent dans le département \"Engineering\".\n",
    "2. **Filtrage par tranche d'âge :** Écrivez un programme qui utilise `filter()` pour trouver les employés dont l'âge est compris entre 25 et 40 ans (inclus).\n",
    "3. **Filtrage par longueur de nom :** Écrivez un programme qui utilise `filter()` pour trouver les employés dont le nom contient plus de 3 caractères.\n"
   ]
  },
  {
   "cell_type": "markdown",
   "metadata": {},
   "source": [
    "#### Filtrage avancé de chaînes de caractères\n",
    "On vous donne une liste de phrases. Votre tâche est de filtrer les phrases en fonction de diverses conditions."
   ]
  },
  {
   "cell_type": "code",
   "execution_count": null,
   "metadata": {},
   "outputs": [],
   "source": [
    "sentences = [\n",
    "    \"Bienvenue dans le monde de la programmation!\",\n",
    "    \"Le débogage fait partie du jeu.\",\n",
    "    \"La pratique rend parfait, alors continue à coder.\",\n",
    "    \"Les algorithmes d'apprentissage automatique sont de plus en plus puissants.\",\n",
    "    \"La visualisation de données est un moyen de communiquer des informations complexes.\",\n",
    "    \"Les données non structurées sont un défi pour les Data Scientists.\"\n",
    "]"
   ]
  },
  {
   "cell_type": "markdown",
   "metadata": {},
   "source": [
    "**Questions**\n",
    "  \n",
    "1. **Filtrage par longueur :** Écrivez un programme qui utilise `filter()` pour sélectionner les phrases comportant moins de 5 mots.\n",
    "2. **Filtrage par mots-clés :** Écrivez un programme qui utilise `filter()` pour sélectionner les phrases contenant le mot \"coder\".\n",
    "3. **Filtrage par mots palindromiques :** Écrivez un programme qui utilise `filter()` pour sélectionner les phrases contenant au moins un palindrome.\n"
   ]
  },
  {
   "cell_type": "markdown",
   "metadata": {},
   "source": [
    "## Exercice 2 \\[★\\]\n",
    "\n",
    "Que faire si nous voulons appliquer la même fonction sur plusieurs éléments d'une liste.\n",
    "\n",
    "Prenons l'exemple suivant : supposons que nous ayons une fonction qui puisse retourner le carré d'un nombre. Nous voulons maintenant appliquer cette fonction à tous les nombres d'une liste. Nous pouvons écrire un programme avec une boucle pour y parvenir. Mais nous allons écrire un programme plus petit pour y parvenir."
   ]
  },
  {
   "cell_type": "markdown",
   "metadata": {},
   "source": [
    "$f(x) = x ^ 2$\n",
    "\n",
    "$g([a,b,...]) = [f(a), f(b), ..]$\n",
    "\n",
    "$g([a,b,...]) = [a^2, b^2, ..]$"
   ]
  },
  {
   "cell_type": "markdown",
   "metadata": {},
   "source": [
    "Python fournit une autre fonction intégrée appelée `map(function, iterable, ...)`."
   ]
  },
  {
   "cell_type": "code",
   "execution_count": null,
   "metadata": {},
   "outputs": [],
   "source": [
    "?map"
   ]
  },
  {
   "cell_type": "code",
   "execution_count": null,
   "metadata": {},
   "outputs": [],
   "source": [
    "def square(item):\n",
    "    return item * item\n",
    "\n",
    "\n",
    "num = [i for i in range(1, 20)]\n",
    "squared = list(map(square, num))\n",
    "print(filtered)"
   ]
  },
  {
   "cell_type": "markdown",
   "metadata": {},
   "source": [
    "Mais que faire si notre programme prend plusieurs entrées.\n",
    "\n",
    "L'exemple suivant montre ce cas. La fonction `product()` prend deux nombres en entrée et renvoie leur produit."
   ]
  },
  {
   "cell_type": "code",
   "execution_count": null,
   "metadata": {},
   "outputs": [],
   "source": [
    "def product(item1, item2):\n",
    "    return item1 * item2\n",
    "\n",
    "\n",
    "num1 = [i for i in range(1, 20)]\n",
    "print(num1)\n",
    "num2 = [i for i in range(10, 20)]\n",
    "print(num2)\n",
    "product_value = list(map(product, num1, num2))\n",
    "print(filtered)"
   ]
  },
  {
   "cell_type": "markdown",
   "metadata": {},
   "source": [
    "Enfin, nous examinons une autre fonction appelée reduce() qui applique une fonction de deux arguments de manière cumulative sur les membres de la liste, de gauche à droite."
   ]
  },
  {
   "cell_type": "markdown",
   "metadata": {},
   "source": [
    "$f(x) = x ^ 2$\n",
    "\n",
    "$g([a,b,...]) = [f(a), f(b), ..]$\n",
    "\n",
    "$g([a,b,...]) = [a^2, b^2, ..]$\n",
    "\n",
    "$h(g([a,b,c,..])) = (((a^2 + b^2) + c^2) + ...) $ "
   ]
  },
  {
   "cell_type": "code",
   "execution_count": null,
   "metadata": {},
   "outputs": [],
   "source": [
    "from functools import reduce\n",
    "\n",
    "?reduce"
   ]
  },
  {
   "cell_type": "markdown",
   "metadata": {},
   "source": [
    "Dans l'exemple suivant, nous calculons la somme des membres d'une liste.\n",
    "\n",
    "Nous passons la fonction sum_num() comme premier argument à la fonction reduce. sum_num() prend deux nombres en entrée et renvoie leur nombre."
   ]
  },
  {
   "cell_type": "code",
   "execution_count": null,
   "metadata": {},
   "outputs": [],
   "source": [
    "from functools import reduce\n",
    "import random\n",
    "\n",
    "\n",
    "def sum_num(item1, item2):\n",
    "    return item1 + item2\n",
    "\n",
    "\n",
    "num = [i for i in range(1, 20)]\n",
    "print(num)\n",
    "\n",
    "sum_value = reduce(sum_num, num)\n",
    "print(sum_value)"
   ]
  },
  {
   "cell_type": "markdown",
   "metadata": {},
   "source": [
    "Dans l'exemple suivant, nous utilisons la même fonction sum_num(), mais sur des nombres réels."
   ]
  },
  {
   "cell_type": "code",
   "execution_count": null,
   "metadata": {},
   "outputs": [],
   "source": [
    "num = [random.uniform(0, i) for i in range(1, 20)]\n",
    "print(num)\n",
    "sum_value = reduce(sum_num, num)\n",
    "print(sum_value)"
   ]
  },
  {
   "cell_type": "markdown",
   "metadata": {},
   "source": [
    "Dans l'exemple suivant, nous utilisons une autre fonction product()."
   ]
  },
  {
   "cell_type": "code",
   "execution_count": null,
   "metadata": {},
   "outputs": [],
   "source": [
    "from functools import reduce\n",
    "\n",
    "\n",
    "def product(item1, item2):\n",
    "    return item1 * item2\n",
    "\n",
    "\n",
    "num = [i for i in range(1, 20)]\n",
    "print(num)\n",
    "sum_num = reduce(product, num)\n",
    "print(sum_num)"
   ]
  },
  {
   "cell_type": "markdown",
   "metadata": {},
   "source": [
    "**Question**: Écrivez un programme qui prend une liste de matrices de taille 2x2 et calcule la somme de toutes les matrices."
   ]
  },
  {
   "cell_type": "markdown",
   "metadata": {},
   "source": [
    "### Opérations sur les matrices avec `map()` et `reduce()`\n",
    "On vous donne une liste de matrices 2x2 (listes de listes). Vous devez **appliquer diverses opérations en utilisant `map()` et `reduce()`**."
   ]
  },
  {
   "cell_type": "code",
   "execution_count": null,
   "metadata": {},
   "outputs": [],
   "source": [
    "from functools import reduce\n",
    "\n",
    "matrices = [\n",
    "    [[1, 2], [3, 4]],\n",
    "    [[0, 1], [2, 3]],\n",
    "    [[-1, -2], [-3, -4]],\n",
    "    [[5, 6], [7, 8]]\n",
    "]"
   ]
  },
  {
   "cell_type": "markdown",
   "metadata": {},
   "source": [
    "**Questions**  \n",
    "\n",
    "1. **Somme de toutes les matrices :** Écrivez un programme qui utilise `reduce()` pour calculer la somme de toutes les matrices.  \n",
    "2. **Multiplication élément par élément :** Écrivez un programme qui utilise `map()` pour calculer la multiplication élément par élément de deux matrices.  \n",
    "3. **Filtrage de matrices :** Écrivez un programme qui utilise `filter()` pour sélectionner uniquement les matrices dont tous les éléments sont positifs."
   ]
  },
  {
   "cell_type": "markdown",
   "metadata": {},
   "source": [
    "#### Transformation et agrégation de données\n",
    "Vous disposez d'une liste de dictionnaires représentant des produits, avec les clés `name`, `price` et `quantity`."
   ]
  },
  {
   "cell_type": "code",
   "execution_count": null,
   "metadata": {},
   "outputs": [],
   "source": [
    "from functools import reduce\n",
    "\n",
    "products = [\n",
    "    {\"name\": \"Laptop\", \"price\": 1200, \"quantity\": 3},\n",
    "    {\"name\": \"Smartphone\", \"price\": 800, \"quantity\": 5},\n",
    "    {\"name\": \"Tablet\", \"price\": 300, \"quantity\": 10},\n",
    "    {\"name\": \"Smartwatch\", \"price\": 200, \"quantity\": 15}\n",
    "]"
   ]
  },
  {
   "cell_type": "markdown",
   "metadata": {},
   "source": [
    "**Questions**  \n",
    "\n",
    "1. **Valeur totale de l'inventaire :** Écrivez un programme qui utilise `map()` et `reduce()` pour calculer la valeur totale de tous les produits en stock.  \n",
    "2. **Filtrage par prix :** Écrivez un programme qui utilise `filter()` pour trouver les produits dont le prix est supérieur à un certain seuil (par exemple, 500).  \n",
    "3. **Application d'une remise :** Écrivez un programme qui utilise `map()` pour appliquer une remise de 10 % à tous les produits et renvoie la liste mise à jour.  \n"
   ]
  },
  {
   "cell_type": "markdown",
   "metadata": {},
   "source": [
    "## Exercice 3 \\[★★\\]\n",
    "\n",
    "Dans les exemples suivants, nous utilisons des expressions lambda et les passons comme arguments aux fonctions filter(), map(), et reduce().\n",
    "\n",
    "Dans l'exemple suivant, l'expression lambda `lambda x : x%2` prend x en entrée et retourne la valeur de `x%2`. Cette approche est similaire à celle que nous avons vue ci-dessus avec la fonction even()."
   ]
  },
  {
   "cell_type": "code",
   "execution_count": null,
   "metadata": {},
   "outputs": [],
   "source": [
    "num = [i for i in range(1, 20)]\n",
    "filtered = list(filter(lambda x: x % 2 == 0, num))\n",
    "print(filtered)"
   ]
  },
  {
   "cell_type": "markdown",
   "metadata": {},
   "source": [
    "Dans l'exemple suivant, nous prenons l'exemple avec la fonction odd() et le remplaçons par une expression lambda."
   ]
  },
  {
   "cell_type": "code",
   "execution_count": null,
   "metadata": {},
   "outputs": [],
   "source": [
    "num = [i for i in range(1, 20)]\n",
    "filtered = list(filter(lambda x: x % 2 != 0, num))\n",
    "print(filtered)"
   ]
  },
  {
   "cell_type": "markdown",
   "metadata": {},
   "source": [
    "Dans l'exemple suivant, nous prenons l'exemple avec la fonction square() et le remplaçons par une expression lambda."
   ]
  },
  {
   "cell_type": "code",
   "execution_count": null,
   "metadata": {},
   "outputs": [],
   "source": [
    "num = [i for i in range(1, 20)]\n",
    "squared = list(map(lambda x: x * 2, num))\n",
    "print(squared)"
   ]
  },
  {
   "cell_type": "markdown",
   "metadata": {},
   "source": [
    "Et si nous voulons passer deux arguments, comme dans l'exemple product() ci-dessus."
   ]
  },
  {
   "cell_type": "code",
   "execution_count": null,
   "metadata": {},
   "outputs": [],
   "source": [
    "num1 = [i for i in range(1, 20)]\n",
    "print(num1)\n",
    "num2 = [i for i in range(10, 20)]\n",
    "print(num2)\n",
    "product = list(map(lambda x, y: x * y, num1, num2))\n",
    "print(product)"
   ]
  },
  {
   "cell_type": "markdown",
   "metadata": {},
   "source": [
    "Dans les exemples suivants, nous utilisons l'expression lambda avec la fonction reduce()."
   ]
  },
  {
   "cell_type": "code",
   "execution_count": null,
   "metadata": {},
   "outputs": [],
   "source": [
    "from functools import reduce\n",
    "import random\n",
    "\n",
    "num = [i for i in range(1, 20)]\n",
    "print(num)\n",
    "\n",
    "sum_value = reduce(lambda x, y: x + y, num)\n",
    "print(sum_value)"
   ]
  },
  {
   "cell_type": "markdown",
   "metadata": {},
   "source": [
    "Comme dans l'exemple avec sum_num(), nous testons des nombres réels avec les expressions lambda."
   ]
  },
  {
   "cell_type": "code",
   "execution_count": null,
   "metadata": {},
   "outputs": [],
   "source": [
    "from functools import reduce\n",
    "import random\n",
    "\n",
    "num = [i for i in range(1, 20)]\n",
    "print(num)\n",
    "\n",
    "sum_value = reduce(lambda x, y: x + y, num)\n",
    "print(sum_value)"
   ]
  },
  {
   "cell_type": "markdown",
   "metadata": {},
   "source": [
    "Maintenant, nous remplaçons le produit() par une expression lambda."
   ]
  },
  {
   "cell_type": "code",
   "execution_count": null,
   "metadata": {},
   "outputs": [],
   "source": [
    "from functools import reduce\n",
    "import random\n",
    "\n",
    "num = [i for i in range(1, 20)]\n",
    "print(num)\n",
    "\n",
    "product_value = reduce(lambda x, y: x * y, num)\n",
    "print(product_value)"
   ]
  },
  {
   "cell_type": "markdown",
   "metadata": {},
   "source": [
    "**Question** Écrivez un programme utilisant map(), reduce() et des expressions lambda pour compter la longueur totale de toutes les chaînes de caractères dans une liste."
   ]
  },
  {
   "cell_type": "markdown",
   "metadata": {},
   "source": [
    "#### Analyse de texte avec des expressions lambda\n",
    "Vous disposez d'une liste de phrases. Chaque phrase est une chaîne de caractères contenant plusieurs mots.  \n",
    "Utilisez `map()`, `filter()` et `reduce()` avec des **expressions lambda** pour analyser le texte.\n"
   ]
  },
  {
   "cell_type": "code",
   "execution_count": null,
   "metadata": {},
   "outputs": [],
   "source": [
    "sentences = [\n",
    "    \"Bienvenue dans le monde de la programmation!\",\n",
    "    \"Le débogage fait partie du jeu.\",\n",
    "    \"La pratique rend parfait, alors continue à coder.\",\n",
    "    \"Les algorithmes d'apprentissage automatique sont de plus en plus puissants.\",\n",
    "    \"La visualisation de données est un moyen de communiquer des informations complexes.\",\n",
    "    \"Les données non structurées sont un défi pour les Data Scientists.\"\n",
    "]"
   ]
  },
  {
   "cell_type": "markdown",
   "metadata": {},
   "source": [
    "**Questions**  \n",
    "\n",
    "1. **Compte des mots :** Écrivez un programme qui utilise `map()` et `reduce()` pour compter le nombre total de mots dans toutes les phrases.  \n",
    "2. **Phrase la plus longue :** Écrivez un programme qui utilise `reduce()` pour trouver la phrase la plus longue en nombre de mots.  \n",
    "3. **Filtrage des phrases courtes :** Écrivez un programme qui utilise `filter()` pour ne conserver que les phrases contenant plus de 6 mots.  \n",
    "\n"
   ]
  },
  {
   "cell_type": "markdown",
   "metadata": {},
   "source": [
    "#### Traitement de données financières avec des expressions lambda\n",
    "\n",
    "Vous disposez d'une liste de transactions représentées par des dictionnaires.  \n",
    "Utilisez `map()`, `filter()` et `reduce()` avec des **expressions lambda** pour traiter les données."
   ]
  },
  {
   "cell_type": "code",
   "execution_count": null,
   "metadata": {},
   "outputs": [],
   "source": [
    "from functools import reduce\n",
    "\n",
    "transactions = [\n",
    "    {\"date\": \"2025-03-10\", \"type\": \"income\", \"amount\": 1200},\n",
    "    {\"date\": \"2025-03-11\", \"type\": \"expense\", \"amount\": 400},\n",
    "    {\"date\": \"2025-03-12\", \"type\": \"income\", \"amount\": 1500},\n",
    "    {\"date\": \"2025-03-13\", \"type\": \"expense\", \"amount\": 800},\n",
    "    {\"date\": \"2025-03-14\", \"type\": \"income\", \"amount\": 2000},\n",
    "    {\"date\": \"2025-03-15\", \"type\": \"expense\", \"amount\": 500},\n",
    "    {\"date\": \"2025-03-16\", \"type\": \"income\", \"amount\": 1800},\n",
    "]"
   ]
  },
  {
   "cell_type": "markdown",
   "metadata": {},
   "source": [
    "**Questions**  \n",
    "  \n",
    "1. **Calcul du solde net :** Écrivez un programme qui utilise `reduce()` pour calculer le solde net (somme de tous les revenus moins la somme de toutes les dépenses).  \n",
    "2. **Filtrage des transactions :** Écrivez un programme qui utilise `filter()` pour récupérer uniquement les transactions de type revenu supérieures à un certain seuil (par exemple, 1500).  \n",
    "3. **Montants des transactions :** Écrivez un programme qui utilise `map()` pour extraire uniquement les montants des transactions et les renvoyer sous forme de liste.  \n"
   ]
  },
  {
   "cell_type": "markdown",
   "metadata": {},
   "source": [
    "## Exercice 4 \\[★★★\\]\n",
    "\n",
    "Nous voulons utiliser le multitraitement pour calculer les valeurs en parallèle.\n",
    "Pour ce faire, nous utiliserons le paquet multiprocessing. \n",
    "\n",
    "D'abord nous trouvons le nombre de processeurs dans notre machine.."
   ]
  },
  {
   "cell_type": "code",
   "execution_count": null,
   "metadata": {},
   "outputs": [],
   "source": [
    "import multiprocessing as mp\n",
    "\n",
    "?mp.cpu_count"
   ]
  },
  {
   "cell_type": "code",
   "execution_count": null,
   "metadata": {},
   "outputs": [],
   "source": [
    "import multiprocessing as mp\n",
    "\n",
    "print(mp.cpu_count())"
   ]
  },
  {
   "cell_type": "markdown",
   "metadata": {},
   "source": [
    "Ensuite, nous allons créer un pool de processus pour le calcul et nous utilisons la méthode Pool()."
   ]
  },
  {
   "cell_type": "code",
   "execution_count": null,
   "metadata": {},
   "outputs": [],
   "source": [
    "import multiprocessing as mp\n",
    "\n",
    "?mp.Pool"
   ]
  },
  {
   "cell_type": "markdown",
   "metadata": {},
   "source": [
    "Dans l'exemple suivant, \n",
    "nous créons un pool dont le nombre de processus est égal au nombre de processeurs de notre machine.\n",
    "\n",
    "Regardez comment nous transformons notre exemple précédent de map-reduce dans le contexte du multiprocessus."
   ]
  },
  {
   "cell_type": "code",
   "execution_count": null,
   "metadata": {},
   "outputs": [],
   "source": [
    "from functools import reduce\n",
    "import multiprocessing as mp\n",
    "\n",
    "cpu_count = mp.cpu_count()\n",
    "\n",
    "\n",
    "def squared(x):\n",
    "    return x * x\n",
    "\n",
    "\n",
    "num = [i for i in range(1, 20)]\n",
    "with mp.Pool(processes=cpu_count) as pool:\n",
    "    list_squared = pool.map(squared, num)\n",
    "    print(list_squared)\n",
    "    product_value = reduce(lambda x, y: x * y, list_squared)\n",
    "    print(product_value)"
   ]
  },
  {
   "cell_type": "markdown",
   "metadata": {},
   "source": [
    "Dans l'exemple suivant, nous voulons télécharger un certain nombre de pages en parallèle.\n",
    "Nous passons la fonction download_page() comme entrée à la fonction pool.map(). \n",
    "Le but de la fonction est de télécharger les pages de Wikidata.\n",
    "Vérifiez le résultat du code suivant. \n",
    "\n",
    "Changez le nombre de processus et testez le résultat."
   ]
  },
  {
   "cell_type": "code",
   "execution_count": null,
   "metadata": {},
   "outputs": [],
   "source": [
    "import requests\n",
    "\n",
    "\n",
    "def download_page(item):\n",
    "    r = requests.get(\n",
    "        \"https://www.wikidata.org/wiki/Special:EntityData/\" + item + \".json\"\n",
    "    )\n",
    "    # success\n",
    "    if r.status_code == 200:\n",
    "        with open(item + \".json\", \"w\") as w:\n",
    "            w.write(str(r.json()))\n",
    "        w.close()\n",
    "    return r.status_code\n",
    "\n",
    "\n",
    "process_count = 2\n",
    "pages = [\"Q1\", \"Q2\", \"Q3\", \"Q4\", \"Q5\", \"Q6\"]\n",
    "with mp.Pool(processes=process_count) as pool:\n",
    "    status = pool.map(download_page, pages)\n",
    "    print(status)"
   ]
  },
  {
   "cell_type": "markdown",
   "metadata": {},
   "source": [
    "Maintenant, nous voulons analyser les pages téléchargées. Dans l'exemple suivant, \n",
    "nous comptons le nombre d'URLs contenant \"wikipedia.org\"."
   ]
  },
  {
   "cell_type": "code",
   "execution_count": null,
   "metadata": {},
   "outputs": [],
   "source": [
    "import os\n",
    "\n",
    "\n",
    "def analyse_file(filename):\n",
    "    with open(filename, \"r\") as w:\n",
    "        data = w.read()\n",
    "        tokens = data.split(\",\")\n",
    "        urls = list(filter(lambda w: \"wikipedia.org\" in w, tokens))\n",
    "        return len(urls)\n",
    "    return 0\n",
    "\n",
    "\n",
    "files = os.listdir(\".\")\n",
    "json_files = list(filter(lambda f: \".json\" in f, files))\n",
    "\n",
    "with mp.Pool(processes=cpu_count) as pool:\n",
    "    counts = pool.map(analyse_file, json_files)\n",
    "    print(counts)\n",
    "    total_count = reduce(lambda x, y: x + y, counts)\n",
    "    print(total_count)"
   ]
  },
  {
   "cell_type": "markdown",
   "metadata": {},
   "source": [
    "**Question**: Écrivez un programme qui interroge Wikidata pour obtenir 100 URL d'images de villes et qui \n",
    "    télécharge les images sur votre machine en utilisant multiprocessing et map(). \n",
    "    Le programme doit ensuite analyser chaque image téléchargée et trouver les deux couleurs prédominantes de chaque image, toujours en utilisant multiprocessing et map()."
   ]
  },
  {
   "cell_type": "markdown",
   "metadata": {},
   "source": [
    "#### Traitement de données en parallèle avec Multiprocessing  \n",
    "\n",
    "**Question**  \n",
    "\n",
    "Écrivez un programme qui prend une liste d’URLs pointant vers des fichiers texte hébergés en ligne.  \n",
    "1. Téléchargez tous les fichiers texte de manière concurrente en utilisant `multiprocessing.Pool()` et `map()`.  \n",
    "2. Une fois les fichiers téléchargés, effectuez les tâches suivantes en parallèle :  \n",
    "   - Compter le nombre total de mots dans chaque fichier.  \n",
    "   - Compter la fréquence de chaque mot dans l'ensemble des fichiers (sans distinction de casse).  \n",
    "3. Agrégez les résultats et affichez les 10 mots les plus courants ainsi que leurs fréquences.  \n",
    "\n",
    "**Remarque :** Utilisez `multiprocessing.Pool()` et `map()` pour le traitement.  "
   ]
  },
  {
   "cell_type": "markdown",
   "metadata": {},
   "source": [
    "#### Analyse d’images avec Multiprocessing  \n",
    "\n",
    "**Question**  \n",
    "\n",
    "Écrivez un programme qui prend une liste de chemins de fichiers d’images et les traite de manière concurrente pour effectuer les tâches suivantes :  \n",
    "1. **Redimensionner toutes les images** à une résolution fixe (par exemple, 128x128).  \n",
    "2. **Convertir les images en niveaux de gris** et calculer leur intensité moyenne.  \n",
    "3. **Générer des miniatures** pour toutes les images et les enregistrer dans un répertoire spécifié.  \n",
    "4. Agréger les résultats et afficher :  \n",
    "   - L'image avec l’intensité moyenne la plus élevée.  \n",
    "   - L'image avec l’intensité moyenne la plus faible.  \n",
    "\n",
    "**Remarque :** Utilisez `multiprocessing.Pool()` et `map()` pour le traitement."
   ]
  }
 ],
 "metadata": {
  "kernelspec": {
   "display_name": "Python 3 (ipykernel)",
   "language": "python",
   "name": "python3"
  },
  "language_info": {
   "codemirror_mode": {
    "name": "ipython",
    "version": 3
   },
   "file_extension": ".py",
   "mimetype": "text/x-python",
   "name": "python",
   "nbconvert_exporter": "python",
   "pygments_lexer": "ipython3",
   "version": "3.10.12"
  }
 },
 "nbformat": 4,
 "nbformat_minor": 4
}
