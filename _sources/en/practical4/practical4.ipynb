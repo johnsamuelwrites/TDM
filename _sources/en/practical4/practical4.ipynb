{
 "cells": [
  {
   "cell_type": "markdown",
   "metadata": {},
   "source": [
    "# Practical 4\n",
    "\n",
    "## Goals\n",
    "\n",
    "### Work on builtin Python functions\n",
    "1. map()\n",
    "2. filter()\n",
    "3. reduce()\n",
    "\n",
    "\n",
    "### Multiprocessing\n",
    "1. multiprocessing.cpu_count\n",
    "2. multiprocessing.Pool\n",
    "3. map"
   ]
  },
  {
   "cell_type": "markdown",
   "metadata": {},
   "source": [
    "## Exercice 1 \\[★\\]\n",
    "\n",
    "In this exercise, we will take a look at the Python builtin function called filter() which can be used to select items from a collection matching a particular condition."
   ]
  },
  {
   "cell_type": "code",
   "execution_count": null,
   "metadata": {},
   "outputs": [],
   "source": [
    "# Initialization\n",
    "num = [i for i in range(1, 20)]\n",
    "print(num)"
   ]
  },
  {
   "cell_type": "markdown",
   "metadata": {},
   "source": [
    "We will make use of the available documentation for the different functions. \n",
    "For this purpose, we will use a question mark (?) after the name of the function or a class \n",
    "as shown below."
   ]
  },
  {
   "cell_type": "code",
   "execution_count": null,
   "metadata": {},
   "outputs": [],
   "source": [
    "?filter"
   ]
  },
  {
   "cell_type": "markdown",
   "metadata": {},
   "source": [
    "The function `filter(function, iterable)` takes two parameters: a function and an iterable. The function acts on each element of an iterable data type."
   ]
  },
  {
   "cell_type": "markdown",
   "metadata": {},
   "source": [
    "In the first example, we use `None`as the first parameter. In this case, filter will act as an identity function and returns the iterable."
   ]
  },
  {
   "cell_type": "code",
   "execution_count": null,
   "metadata": {},
   "outputs": [],
   "source": [
    "# Use of filter function with None as the first parameter\n",
    "num = [i for i in range(1, 20)]\n",
    "filtered = list(filter(None, num))\n",
    "print(filtered)"
   ]
  },
  {
   "cell_type": "markdown",
   "metadata": {},
   "source": [
    "In the next example, we will filter out the even numbers from the input list.\n",
    "Note that we have written a function even() which returns True if the input number is even, \n",
    "else False.\n",
    "\n",
    "filter will return the items from the list which returned True when passed as argument to the function even()."
   ]
  },
  {
   "cell_type": "code",
   "execution_count": null,
   "metadata": {},
   "outputs": [],
   "source": [
    "def even(item):\n",
    "    if item % 2 == 0:\n",
    "        return True\n",
    "    return False\n",
    "\n",
    "\n",
    "num = [i for i in range(1, 20)]\n",
    "filtered = list(filter(even, num))\n",
    "print(filtered)"
   ]
  },
  {
   "cell_type": "markdown",
   "metadata": {},
   "source": [
    "In the following example, we have a new function odd() which returns True when the input number is odd.\n",
    "\n",
    "We use this new function as input to the filter() function."
   ]
  },
  {
   "cell_type": "code",
   "execution_count": null,
   "metadata": {},
   "outputs": [],
   "source": [
    "def odd(item):\n",
    "    if item % 2 == 0:\n",
    "        return False\n",
    "    return True\n",
    "\n",
    "\n",
    "num = [i for i in range(1, 20)]\n",
    "filtered = list(filter(odd, num))\n",
    "print(filtered)"
   ]
  },
  {
   "cell_type": "markdown",
   "metadata": {},
   "source": [
    "**Question** Write a program using filter() that takes a list of strings and filters out the palindromes."
   ]
  },
  {
   "cell_type": "markdown",
   "metadata": {},
   "source": [
    "#### Filtering with Nested Structures\n",
    "\n",
    "The `filter()` function can also be applied to complex data structures like lists of dictionaries or tuples.\n",
    "\n",
    "You are given a list of dictionaries representing employees, each with `name`, `age`, and `department` keys:"
   ]
  },
  {
   "cell_type": "code",
   "execution_count": null,
   "metadata": {},
   "outputs": [],
   "source": [
    "employees = [\n",
    "    {\"name\": \"Alice\", \"age\": 28, \"department\": \"HR\"},\n",
    "    {\"name\": \"Bob\", \"age\": 35, \"department\": \"Engineering\"},\n",
    "    {\"name\": \"Charlie\", \"age\": 22, \"department\": \"Marketing\"},\n",
    "    {\"name\": \"David\", \"age\": 45, \"department\": \"Engineering\"},\n",
    "    {\"name\": \"Pierre\", \"age\": 29, \"department\": \"HR\"}\n",
    "]"
   ]
  },
  {
   "cell_type": "markdown",
   "metadata": {},
   "source": [
    "**Questions**\n",
    "1. **Filter by Department:** Write a program that uses `filter()` to create a list of employees who work in the \"Engineering\" department.\n",
    "2. **Filter by Age Range:** Write a program that uses `filter()` to find employees whose age is between 25 and 40 (inclusive).\n",
    "3. **Filter by Name Length:** Write a program that uses `filter()` to find employees whose name has more than 3 characters.\n"
   ]
  },
  {
   "cell_type": "markdown",
   "metadata": {},
   "source": [
    "#### Advanced String Filtering\n",
    "\n",
    "You are given a list of sentences. Your task is to filter sentences based on various conditions."
   ]
  },
  {
   "cell_type": "code",
   "execution_count": null,
   "metadata": {},
   "outputs": [],
   "source": [
    "sentences = [\n",
    "    \"Bienvenue dans le monde de la programmation!\",\n",
    "    \"Le débogage fait partie du jeu.\",\n",
    "    \"La pratique rend parfait, alors continue à coder.\",\n",
    "    \"Les algorithmes d'apprentissage automatique sont de plus en plus puissants.\",\n",
    "    \"La visualisation de données est un moyen de communiquer des informations complexes.\",\n",
    "    \"Les données non structurées sont un défi pour les Data Scientists.\"\n",
    "]"
   ]
  },
  {
   "cell_type": "markdown",
   "metadata": {},
   "source": [
    "**Questions**\n",
    "1. **Filter by Length:** Write a program that uses `filter()` to select sentences that have fewer than 5 words.\n",
    "2. **Filter by Keywords:** Write a program that uses `filter()` to select sentences that contain the word \"coder\".\n",
    "3. **Filter by Palindromic Words:** Write a program that uses `filter()` to select sentences that contain at least one palindrome."
   ]
  },
  {
   "cell_type": "markdown",
   "metadata": {},
   "source": [
    "## Exercice 2 \\[★\\]\n",
    "\n",
    "What if we want to apply the same function on multiple elements in a list.\n",
    "\n",
    "Take for example, let's assume that we have a function that can return the square of a number. Now we want to apply this to all the numbers in a list. We can write a program with a loop to achieve this. But, we are going to write a smaller program to achieve this."
   ]
  },
  {
   "cell_type": "markdown",
   "metadata": {},
   "source": [
    "$f(x) = x ^ 2$\n",
    "\n",
    "$g([a,b,...]) = [f(a), f(b), ..]$\n",
    "\n",
    "$g([a,b,...]) = [a^2, b^2, ..]$"
   ]
  },
  {
   "cell_type": "markdown",
   "metadata": {},
   "source": [
    "Python provides another builtin function called `map(function, iterable, ...)`."
   ]
  },
  {
   "cell_type": "code",
   "execution_count": null,
   "metadata": {},
   "outputs": [],
   "source": [
    "?map"
   ]
  },
  {
   "cell_type": "code",
   "execution_count": null,
   "metadata": {},
   "outputs": [],
   "source": [
    "def square(item):\n",
    "    return item * item\n",
    "\n",
    "\n",
    "num = [i for i in range(1, 20)]\n",
    "squared = list(map(square, num))\n",
    "print(filtered)"
   ]
  },
  {
   "cell_type": "markdown",
   "metadata": {},
   "source": [
    "But what if our program takes multiple inputs.\n",
    "\n",
    "The following example shows this cases. The function product() takes two numbers as input and returns their product."
   ]
  },
  {
   "cell_type": "code",
   "execution_count": null,
   "metadata": {},
   "outputs": [],
   "source": [
    "def product(item1, item2):\n",
    "    return item1 * item2\n",
    "\n",
    "\n",
    "num1 = [i for i in range(1, 20)]\n",
    "print(num1)\n",
    "num2 = [i for i in range(10, 20)]\n",
    "print(num2)\n",
    "product_value = list(map(product, num1, num2))\n",
    "print(filtered)"
   ]
  },
  {
   "cell_type": "markdown",
   "metadata": {},
   "source": [
    "Finally, we look at another function called reduce() that applies a function of two arguments cumulatively on the members of the list, from left to right."
   ]
  },
  {
   "cell_type": "markdown",
   "metadata": {},
   "source": [
    "$f(x) = x ^ 2$\n",
    "\n",
    "$g([a,b,...]) = [f(a), f(b), ..]$\n",
    "\n",
    "$g([a,b,...]) = [a^2, b^2, ..]$\n",
    "\n",
    "$h(g([a,b,c,..])) = (((a^2 + b^2) + c^2) + ...) $ "
   ]
  },
  {
   "cell_type": "code",
   "execution_count": null,
   "metadata": {},
   "outputs": [],
   "source": [
    "from functools import reduce\n",
    "\n",
    "?reduce"
   ]
  },
  {
   "cell_type": "markdown",
   "metadata": {},
   "source": [
    "In the following example, we calculate the sum of members of a list.\n",
    "\n",
    "We pass the function sum_num() as the first argument to the reduce function. sum_num() takes two numbers as input and returns their number."
   ]
  },
  {
   "cell_type": "code",
   "execution_count": null,
   "metadata": {},
   "outputs": [],
   "source": [
    "from functools import reduce\n",
    "import random\n",
    "\n",
    "\n",
    "def sum_num(item1, item2):\n",
    "    return item1 + item2\n",
    "\n",
    "\n",
    "num = [i for i in range(1, 20)]\n",
    "print(num)\n",
    "\n",
    "sum_value = reduce(sum_num, num)\n",
    "print(sum_value)"
   ]
  },
  {
   "cell_type": "markdown",
   "metadata": {},
   "source": [
    "In the next example, we make use of the same function sum_num(), but on real numbers."
   ]
  },
  {
   "cell_type": "code",
   "execution_count": null,
   "metadata": {},
   "outputs": [],
   "source": [
    "num = [random.uniform(0, i) for i in range(1, 20)]\n",
    "print(num)\n",
    "sum_value = reduce(sum_num, num)\n",
    "print(sum_value)"
   ]
  },
  {
   "cell_type": "markdown",
   "metadata": {},
   "source": [
    "In the next example, we use another function product()."
   ]
  },
  {
   "cell_type": "code",
   "execution_count": null,
   "metadata": {},
   "outputs": [],
   "source": [
    "from functools import reduce\n",
    "\n",
    "\n",
    "def product(item1, item2):\n",
    "    return item1 * item2\n",
    "\n",
    "\n",
    "num = [i for i in range(1, 20)]\n",
    "print(num)\n",
    "sum_num = reduce(product, num)\n",
    "print(sum_num)"
   ]
  },
  {
   "cell_type": "markdown",
   "metadata": {},
   "source": [
    "**Question**: Write a program that takes a list of matrices of size 2x2 and computes the sum of all matrices."
   ]
  },
  {
   "cell_type": "markdown",
   "metadata": {},
   "source": [
    "#### Matrix Operations with `map()` and `reduce()`\n",
    "You are given a list of 2x2 matrices (lists of lists). You need to **apply various operations using `map()` and `reduce()`**."
   ]
  },
  {
   "cell_type": "code",
   "execution_count": null,
   "metadata": {},
   "outputs": [],
   "source": [
    "from functools import reduce\n",
    "\n",
    "matrices = [\n",
    "    [[1, 2], [3, 4]],\n",
    "    [[0, 1], [2, 3]],\n",
    "    [[-1, -2], [-3, -4]],\n",
    "    [[5, 6], [7, 8]]\n",
    "]\n"
   ]
  },
  {
   "cell_type": "markdown",
   "metadata": {},
   "source": [
    "**Questions**\n",
    "\n",
    "1. **Sum of All Matrices:** Write a program that uses `reduce()` to compute the sum of all matrices.\n",
    "2. **Element-wise Multiplication:** Write a program that uses `map()` to compute the element-wise multiplication of two matrices.\n",
    "3. **Matrix Filtering:** Write a program that uses `filter()` to select only matrices where all elements are positive."
   ]
  },
  {
   "cell_type": "markdown",
   "metadata": {},
   "source": [
    "#### Data Transformation and Aggregation\n",
    "You have a list of dictionaries representing products, with keys `name`, `price`, and `quantity`."
   ]
  },
  {
   "cell_type": "code",
   "execution_count": null,
   "metadata": {},
   "outputs": [],
   "source": [
    "from functools import reduce\n",
    "\n",
    "products = [\n",
    "    {\"name\": \"Laptop\", \"price\": 1200, \"quantity\": 3},\n",
    "    {\"name\": \"Smartphone\", \"price\": 800, \"quantity\": 5},\n",
    "    {\"name\": \"Tablet\", \"price\": 300, \"quantity\": 10},\n",
    "    {\"name\": \"Smartwatch\", \"price\": 200, \"quantity\": 15}\n",
    "]\n"
   ]
  },
  {
   "cell_type": "markdown",
   "metadata": {},
   "source": [
    "**Questions**\n",
    "\n",
    "1. **Total Inventory Value:** Write a program that uses `map()` and `reduce()` to calculate the total value of all products in stock.  \n",
    "2. **Price Filtering:** Write a program that uses `filter()` to find products priced above a certain threshold (e.g., 500).  \n",
    "3. **Discount Application:** Write a program that uses `map()` to apply a 10% discount to all products and returns the updated list.  \n"
   ]
  },
  {
   "cell_type": "markdown",
   "metadata": {},
   "source": [
    "## Exercice 3 \\[★★\\]\n",
    "\n",
    "In the following examples, we use lambda expressions and pass them as arguments to the functions filter(), map(), and reduce().\n",
    "\n",
    "In the following example the lambda expression `lambda x: x%2` takes x as input and returns the value for `x%2`. This is similar to the approach we saw above with the function even()."
   ]
  },
  {
   "cell_type": "code",
   "execution_count": null,
   "metadata": {},
   "outputs": [],
   "source": [
    "num = [i for i in range(1, 20)]\n",
    "filtered = list(filter(lambda x: x % 2 == 0, num))\n",
    "print(filtered)"
   ]
  },
  {
   "cell_type": "markdown",
   "metadata": {},
   "source": [
    "In the following example, we take the example with the function odd() and replace it by a lambda expression."
   ]
  },
  {
   "cell_type": "code",
   "execution_count": null,
   "metadata": {},
   "outputs": [],
   "source": [
    "num = [i for i in range(1, 20)]\n",
    "filtered = list(filter(lambda x: x % 2 != 0, num))\n",
    "print(filtered)"
   ]
  },
  {
   "cell_type": "markdown",
   "metadata": {},
   "source": [
    "In the following example, we take the example with the function square() and replace it by a lambda expression."
   ]
  },
  {
   "cell_type": "code",
   "execution_count": null,
   "metadata": {},
   "outputs": [],
   "source": [
    "num = [i for i in range(1, 20)]\n",
    "squared = list(map(lambda x: x * 2, num))\n",
    "print(squared)"
   ]
  },
  {
   "cell_type": "markdown",
   "metadata": {},
   "source": [
    "What if we want to pass two arguments, like in the example product() above."
   ]
  },
  {
   "cell_type": "code",
   "execution_count": null,
   "metadata": {},
   "outputs": [],
   "source": [
    "num1 = [i for i in range(1, 20)]\n",
    "print(num1)\n",
    "num2 = [i for i in range(10, 20)]\n",
    "print(num2)\n",
    "product = list(map(lambda x, y: x * y, num1, num2))\n",
    "print(product)"
   ]
  },
  {
   "cell_type": "markdown",
   "metadata": {},
   "source": [
    "In the following examples, we use lambda expression with the reduce() function."
   ]
  },
  {
   "cell_type": "code",
   "execution_count": null,
   "metadata": {},
   "outputs": [],
   "source": [
    "from functools import reduce\n",
    "import random\n",
    "\n",
    "num = [i for i in range(1, 20)]\n",
    "print(num)\n",
    "\n",
    "sum_value = reduce(lambda x, y: x + y, num)\n",
    "print(sum_value)"
   ]
  },
  {
   "cell_type": "markdown",
   "metadata": {},
   "source": [
    "Like in the example with sum_num(), we test real numbers with the lambda expressions."
   ]
  },
  {
   "cell_type": "code",
   "execution_count": null,
   "metadata": {},
   "outputs": [],
   "source": [
    "from functools import reduce\n",
    "import random\n",
    "\n",
    "num = [i for i in range(1, 20)]\n",
    "print(num)\n",
    "\n",
    "sum_value = reduce(lambda x, y: x + y, num)\n",
    "print(sum_value)"
   ]
  },
  {
   "cell_type": "markdown",
   "metadata": {},
   "source": [
    "Now we replace the product() with a lambda expression."
   ]
  },
  {
   "cell_type": "code",
   "execution_count": null,
   "metadata": {},
   "outputs": [],
   "source": [
    "from functools import reduce\n",
    "import random\n",
    "\n",
    "num = [i for i in range(1, 20)]\n",
    "print(num)\n",
    "\n",
    "product_value = reduce(lambda x, y: x * y, num)\n",
    "print(product_value)"
   ]
  },
  {
   "cell_type": "markdown",
   "metadata": {},
   "source": [
    "**Question** Write a program using map(), reduce() and lambda expressions to count the total length of all strings in a list."
   ]
  },
  {
   "cell_type": "markdown",
   "metadata": {},
   "source": [
    "#### **Text Analysis with Lambda Expressions**\n",
    "You are given a list of sentences. Each sentence is a string containing multiple words.  \n",
    "Use `map()`, `filter()`, and `reduce()` with **lambda expressions** to analyze the text.\n"
   ]
  },
  {
   "cell_type": "code",
   "execution_count": null,
   "metadata": {},
   "outputs": [],
   "source": [
    "sentences = [\n",
    "    \"Bienvenue dans le monde de la programmation!\",\n",
    "    \"Le débogage fait partie du jeu.\",\n",
    "    \"La pratique rend parfait, alors continue à coder.\",\n",
    "    \"Les algorithmes d'apprentissage automatique sont de plus en plus puissants.\",\n",
    "    \"La visualisation de données est un moyen de communiquer des informations complexes.\",\n",
    "    \"Les données non structurées sont un défi pour les Data Scientists.\"\n",
    "]"
   ]
  },
  {
   "cell_type": "markdown",
   "metadata": {},
   "source": [
    "**Questions**\n",
    "   \n",
    "1. **Word Count:** Write a program that uses `map()` and `reduce()` to count the total number of words in all sentences.  \n",
    "2. **Longest Sentence:** Write a program that uses `reduce()` to find the longest sentence by word count.  \n",
    "3. **Filtering Short Sentences:** Write a program that uses `filter()` to keep only sentences with more than 6 words.  "
   ]
  },
  {
   "cell_type": "code",
   "execution_count": null,
   "metadata": {},
   "outputs": [],
   "source": [
    "from functools import reduce\n",
    "\n",
    "transactions = [\n",
    "    {\"date\": \"2025-03-10\", \"type\": \"income\", \"amount\": 1200},\n",
    "    {\"date\": \"2025-03-11\", \"type\": \"expense\", \"amount\": 400},\n",
    "    {\"date\": \"2025-03-12\", \"type\": \"income\", \"amount\": 1500},\n",
    "    {\"date\": \"2025-03-13\", \"type\": \"expense\", \"amount\": 800},\n",
    "    {\"date\": \"2025-03-14\", \"type\": \"income\", \"amount\": 2000},\n",
    "    {\"date\": \"2025-03-15\", \"type\": \"expense\", \"amount\": 500},\n",
    "    {\"date\": \"2025-03-16\", \"type\": \"income\", \"amount\": 1800},\n",
    "]"
   ]
  },
  {
   "cell_type": "markdown",
   "metadata": {},
   "source": [
    "#### Financial Data Processing with Lambda Expressions\n",
    "You have a list of transactions represented as dictionaries.  \n",
    "Use `map()`, `filter()`, and `reduce()` with **lambda expressions** to process the data."
   ]
  },
  {
   "cell_type": "markdown",
   "metadata": {},
   "source": [
    "**Questions**\n",
    "\n",
    "1. **Net Balance Calculation:** Write a program that uses `reduce()` to calculate the net balance (sum of all income minus sum of all expenses).  \n",
    "2. **Filter Transactions:** Write a program that uses `filter()` to retrieve only income transactions above a threshold (e.g., 1500).  \n",
    "3. **Transaction Amounts:** Write a program that uses `map()` to extract only the amounts from the transactions and returns them as a list.  \n",
    "\n"
   ]
  },
  {
   "cell_type": "markdown",
   "metadata": {},
   "source": [
    "## Exercice 4 \\[★★★\\]\n",
    "\n",
    "Next, we want to use multiprocessing to compute the values in parallel.\n",
    "For this purpose we will use multiprocessing package. \n",
    "\n",
    "First we find the number of processors in our machine."
   ]
  },
  {
   "cell_type": "code",
   "execution_count": null,
   "metadata": {},
   "outputs": [],
   "source": [
    "import multiprocessing as mp\n",
    "\n",
    "?mp.cpu_count"
   ]
  },
  {
   "cell_type": "code",
   "execution_count": null,
   "metadata": {},
   "outputs": [],
   "source": [
    "import multiprocessing as mp\n",
    "\n",
    "print(mp.cpu_count())"
   ]
  },
  {
   "cell_type": "markdown",
   "metadata": {},
   "source": [
    "Next, we will create a pool of processes for the calculation and we make use of the Pool() method."
   ]
  },
  {
   "cell_type": "code",
   "execution_count": null,
   "metadata": {},
   "outputs": [],
   "source": [
    "import multiprocessing as mp\n",
    "\n",
    "?mp.Pool"
   ]
  },
  {
   "cell_type": "markdown",
   "metadata": {},
   "source": [
    "In the following example, \n",
    "we create a pool with the number of processes equal to the number of processors in our machine.\n",
    "\n",
    "Take a look how we tranform our previous example of map-reduce in the mulitprocessing context."
   ]
  },
  {
   "cell_type": "code",
   "execution_count": null,
   "metadata": {},
   "outputs": [],
   "source": [
    "from functools import reduce\n",
    "import multiprocessing as mp\n",
    "\n",
    "cpu_count = mp.cpu_count()\n",
    "\n",
    "\n",
    "def squared(x):\n",
    "    return x * x\n",
    "\n",
    "\n",
    "num = [i for i in range(1, 20)]\n",
    "with mp.Pool(processes=cpu_count) as pool:\n",
    "    list_squared = pool.map(squared, num)\n",
    "    print(list_squared)\n",
    "    product_value = reduce(lambda x, y: x * y, list_squared)\n",
    "    print(product_value)"
   ]
  },
  {
   "cell_type": "markdown",
   "metadata": {},
   "source": [
    "In the following example, we want to download a number of pages in parallel.\n",
    "We pass the download_page() as an input to the pool.map() function. \n",
    "The goal of the function is to download Wikidata pages.\n",
    "Check the output of the following code. \n",
    "\n",
    "Change the number of processes and test the output."
   ]
  },
  {
   "cell_type": "code",
   "execution_count": null,
   "metadata": {},
   "outputs": [],
   "source": [
    "import requests\n",
    "\n",
    "\n",
    "def download_page(item):\n",
    "    r = requests.get(\n",
    "        \"https://www.wikidata.org/wiki/Special:EntityData/\" + item + \".json\"\n",
    "    )\n",
    "    # success\n",
    "    if r.status_code == 200:\n",
    "        with open(item + \".json\", \"w\") as w:\n",
    "            w.write(str(r.json()))\n",
    "        w.close()\n",
    "    return r.status_code\n",
    "\n",
    "\n",
    "process_count = 2\n",
    "pages = [\"Q1\", \"Q2\", \"Q3\", \"Q4\", \"Q5\", \"Q6\"]\n",
    "with mp.Pool(processes=process_count) as pool:\n",
    "    status = pool.map(download_page, pages)\n",
    "    print(status)"
   ]
  },
  {
   "cell_type": "markdown",
   "metadata": {},
   "source": [
    "Now, we want to analyse the downloaded pages. In the following example, \n",
    "we count the number of URLs containing \"wikipedia.org\"."
   ]
  },
  {
   "cell_type": "code",
   "execution_count": null,
   "metadata": {},
   "outputs": [],
   "source": [
    "import os\n",
    "\n",
    "\n",
    "def analyse_file(filename):\n",
    "    with open(filename, \"r\") as w:\n",
    "        data = w.read()\n",
    "        tokens = data.split(\",\")\n",
    "        urls = list(filter(lambda w: \"wikipedia.org\" in w, tokens))\n",
    "        return len(urls)\n",
    "    return 0\n",
    "\n",
    "\n",
    "files = os.listdir(\".\")\n",
    "json_files = list(filter(lambda f: \".json\" in f, files))\n",
    "\n",
    "with mp.Pool(processes=cpu_count) as pool:\n",
    "    counts = pool.map(analyse_file, json_files)\n",
    "    print(counts)\n",
    "    total_count = reduce(lambda x, y: x + y, counts)\n",
    "    print(total_count)"
   ]
  },
  {
   "cell_type": "markdown",
   "metadata": {},
   "source": [
    "**Question**: Write a program that queries Wikidata to obtain 100 image URLs of cities and \n",
    "    downloads the images to your machine using multiprocessing and map(). \n",
    "    The program must then analyse every downloaded image and find two predominant colours of \n",
    "    each image, again using multiprocessing and map()."
   ]
  },
  {
   "cell_type": "markdown",
   "metadata": {},
   "source": [
    "#### Parallel Data Processing with Multiprocessing  \n",
    "\n",
    "**Question**\n",
    "\n",
    "Write a program that takes a list of URLs pointing to text files hosted online.  \n",
    "1. Download all the text files concurrently using `multiprocessing.Pool()` and `map()`.  \n",
    "2. Once downloaded, perform the following tasks in parallel:  \n",
    "   - Count the total number of words in each file.  \n",
    "   - Count the frequency of each word across all files (case-insensitive).  \n",
    "3. Aggregate the results and display the 10 most common words and their frequencies.  \n",
    "\n",
    "**Note:**  : Use `multiprocessing.Pool()` and `map()` for processing.  "
   ]
  },
  {
   "cell_type": "markdown",
   "metadata": {},
   "source": [
    "#### Image Analysis with Multiprocessing  \n",
    "\n",
    "**Question**\n",
    "  \n",
    "Write a program that takes a list of image file paths and processes them concurrently to perform the following tasks:  \n",
    "1. **Resize all images** to a fixed resolution (e.g., 128x128).  \n",
    "2. **Convert the images to grayscale** and compute their average intensity.  \n",
    "3. **Generate thumbnails** for all images and save them in a specified directory.  \n",
    "4. Aggregate the results and display:  \n",
    "   - The image with the highest average intensity.  \n",
    "   - The image with the lowest average intensity.  \n",
    "\n",
    "**Note:**  : Use `multiprocessing.Pool()` and `map()` for processing.  "
   ]
  }
 ],
 "metadata": {
  "kernelspec": {
   "display_name": "Python 3 (ipykernel)",
   "language": "python",
   "name": "python3"
  },
  "language_info": {
   "codemirror_mode": {
    "name": "ipython",
    "version": 3
   },
   "file_extension": ".py",
   "mimetype": "text/x-python",
   "name": "python",
   "nbconvert_exporter": "python",
   "pygments_lexer": "ipython3",
   "version": "3.10.12"
  }
 },
 "nbformat": 4,
 "nbformat_minor": 4
}
