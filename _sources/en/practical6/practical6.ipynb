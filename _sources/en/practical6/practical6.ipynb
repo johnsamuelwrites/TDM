{
 "cells": [
  {
   "cell_type": "markdown",
   "id": "5efb9012-bda4-46a9-9146-dd00e67b7d68",
   "metadata": {},
   "source": [
    "# Practical 6\n",
    "\n",
    "## Goals"
   ]
  }
 ],
 "metadata": {
  "kernelspec": {
   "display_name": "Python 3 (ipykernel)",
   "language": "python",
   "name": "python3"
  },
  "language_info": {
   "codemirror_mode": {
    "name": "ipython",
    "version": 3
   },
   "file_extension": ".py",
   "mimetype": "text/x-python",
   "name": "python",
   "nbconvert_exporter": "python",
   "pygments_lexer": "ipython3",
   "version": "3.10.12"
  }
 },
 "nbformat": 4,
 "nbformat_minor": 5
}
