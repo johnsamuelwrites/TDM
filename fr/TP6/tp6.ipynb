{
 "cells": [
  {
   "cell_type": "markdown",
   "id": "9cee8c22",
   "metadata": {},
   "source": [
    "# TP 6\n",
    "\n",
    "## Objectifs"
   ]
  },
  {
   "cell_type": "code",
   "execution_count": null,
   "id": "79fa8572",
   "metadata": {},
   "outputs": [],
   "source": [
    "from os.path import abspath\n",
    "\n",
    "from pyspark.sql import SparkSession\n",
    "from pyspark.sql import Row\n",
    "\n",
    "# warehouse_location points to the default location for managed databases and tables\n",
    "warehouse_location = abspath(\"spark-warehouse\")\n",
    "\n",
    "spark = (\n",
    "    SparkSession.builder.appName(\"Python Spark SQL Hive integration example\")\n",
    "    .config(\"spark.sql.warehouse.dir\", warehouse_location)\n",
    "    .enableHiveSupport()\n",
    "    .getOrCreate()\n",
    ")\n",
    "\n",
    "# spark is an existing SparkSession\n",
    "spark.sql(\"CREATE TABLE IF NOT EXISTS src (value STRING, key STRING) USING hive\")\n",
    "spark.sql(\"LOAD DATA LOCAL INPATH '../../data/pl.csv' INTO TABLE src2\")\n",
    "spark.sql(\"use default\")\n",
    "spark.sql(\"show tables\").show()"
   ]
  },
  {
   "cell_type": "code",
   "execution_count": null,
   "id": "932078e4",
   "metadata": {},
   "outputs": [],
   "source": [
    "spark.sql(\"SELECT * FROM src2\").show()"
   ]
  },
  {
   "cell_type": "code",
   "execution_count": null,
   "id": "8fe3bc49",
   "metadata": {},
   "outputs": [],
   "source": [
    "spark.sql(\"SELECT COUNT(*) FROM src1\").show()"
   ]
  },
  {
   "cell_type": "code",
   "execution_count": null,
   "id": "0b0693c3",
   "metadata": {},
   "outputs": [],
   "source": [
    "spark.catalog.listTables()"
   ]
  }
 ],
 "metadata": {
  "kernelspec": {
   "display_name": "Python 3 (ipykernel)",
   "language": "python",
   "name": "python3"
  },
  "language_info": {
   "codemirror_mode": {
    "name": "ipython",
    "version": 3
   },
   "file_extension": ".py",
   "mimetype": "text/x-python",
   "name": "python",
   "nbconvert_exporter": "python",
   "pygments_lexer": "ipython3",
   "version": "3.10.12"
  }
 },
 "nbformat": 4,
 "nbformat_minor": 5
}
