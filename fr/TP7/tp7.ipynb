{
 "cells": [
  {
   "cell_type": "markdown",
   "id": "4966b399",
   "metadata": {},
   "source": [
    "# TP 7\n",
    "\n",
    "## Objectifs\n",
    "\n",
    "-   Comprendre le mode de traduction\n"
   ]
  },
  {
   "cell_type": "markdown",
   "id": "f8ea3980-41a3-4911-8ba4-c0af7592860f",
   "metadata": {},
   "source": [
    "\n",
    "## Exercice 7.1\n",
    "\n",
    "### Download\n",
    "\n",
    "Téléchargez les données à partir de <https://zenodo.org/record/3271358>.\n",
    "\n",
    "Voir le contenu des données. Comme vous pouvez le voir dans les\n",
    "résultats, il y a quatre colonnes : horodatage, propriété, langue et\n",
    "type.\n",
    "\n",
    "Prenons un exemple de ligne de cet ensemble de données,\n",
    "\n",
    "                  2013-09-10T22:43:54Z,P856,en,label             \n",
    "\n",
    "correspond à l’action qu’un label anglais de la propriété P856 ajouté\n",
    "pour la première fois à 2013-09-10T22:43:54Z.\n",
    "\n",
    "Vous trouverez ci-dessous une description de chaque colonne.\n",
    "\n",
    "1.  horodatage : l’heure à laquelle une action a été effectuée. Par\n",
    "    exemple, 2013-09-10T22:43:54Z\n",
    "2.  la propriété : Identificateur de propriété Wikidata. Il utilise le\n",
    "    numéro P, par exemple, P856\n",
    "3.  langue : la langue dans laquelle une étiquette/description/alias a\n",
    "    été rédigée en premier traduit\n",
    "4.  type : Il peut s’agir de l’une des valeurs suivantes :\n",
    "    label(étiquette), description et alias"
   ]
  },
  {
   "cell_type": "markdown",
   "id": "47fd001c",
   "metadata": {},
   "source": [
    "### Création de dataframe\n",
    "\n",
    "    \n"
   ]
  },
  {
   "cell_type": "code",
   "execution_count": null,
   "id": "c2a1fd24",
   "metadata": {},
   "outputs": [],
   "source": [
    "import pandas as pd\n",
    "\n",
    "dataframe = pd.read_csv(\"../../en/practical7/multilingual_wikidata_translation_flow.csv\")\n",
    "\n",
    "# remove duplicates\n",
    "dataframe = dataframe.drop_duplicates()\n",
    "\n",
    "# remove rows with missing values\n",
    "dataframe = dataframe.dropna()\n",
    "print(dataframe)"
   ]
  },
  {
   "cell_type": "markdown",
   "id": "ef6c6edb",
   "metadata": {},
   "source": [
    "Obtenez une information détaillée du dataframe"
   ]
  },
  {
   "cell_type": "code",
   "execution_count": null,
   "id": "bfd8e001",
   "metadata": {},
   "outputs": [],
   "source": [
    "dataframe.describe()"
   ]
  },
  {
   "cell_type": "markdown",
   "id": "4f67fa34",
   "metadata": {},
   "source": [
    "Examinons maintenant la traduction des étiquettes dans différents\n",
    "langues pour une propriété donnée."
   ]
  },
  {
   "cell_type": "code",
   "execution_count": null,
   "id": "2144feef",
   "metadata": {},
   "outputs": [],
   "source": [
    "dataframe.loc[(dataframe[\"property\"] == \"P856\") & (dataframe[\"type\"] == \"label\")]"
   ]
  },
  {
   "cell_type": "markdown",
   "id": "95f09071",
   "metadata": {},
   "source": [
    "Nous allons vérifier les données disponibles pour une propriété comme\n",
    "P856."
   ]
  },
  {
   "cell_type": "code",
   "execution_count": null,
   "id": "dc11a5ed",
   "metadata": {},
   "outputs": [],
   "source": [
    "ptranslation = dataframe.loc[(dataframe[\"property\"] == \"P856\")]\n",
    "print(ptranslation)"
   ]
  },
  {
   "cell_type": "markdown",
   "id": "b9dbc8ea",
   "metadata": {},
   "source": [
    "Vous pouvez également ajouter des conditions supplémentaires pour\n",
    "filtrer toute information. Le code ci-dessous permet de filtrer la\n",
    "traduction des étiquettes de la propriété P856. Veuillez copier le code\n",
    "ci-dessous et créer de nouvelles cellules pour les tests avec\n",
    "différentes propriétés et voir les résultats pour la traduction des\n",
    "descriptions et des alias. Quelles sont vos premières observations ?\n",
    "Veuillez les noter comme commentaires dans votre notebook."
   ]
  },
  {
   "cell_type": "code",
   "execution_count": null,
   "id": "cc2e7e2a",
   "metadata": {},
   "outputs": [],
   "source": [
    "ptranslation = dataframe.loc[\n",
    "    (dataframe[\"property\"] == \"P856\") & (dataframe[\"type\"] == \"label\")\n",
    "]\n",
    "print(ptranslation)"
   ]
  },
  {
   "cell_type": "markdown",
   "id": "55a0d9ff",
   "metadata": {},
   "source": [
    "### Visualisation de la traduction\n",
    "\n",
    "Notre prochain objectif est de tracer la traduction d’une propriété et\n",
    "de voir si nous pouvons observer n’importe quel mode de traduction.\n",
    "Veuillez copier le code ci-dessous et créer de nouvelles cellules pour\n",
    "les tests avec des propriétés différentes et tracer la résultats. Dans\n",
    "ce graphique, nous traçons le temps sur l’axe des x et la traduction\n",
    "tapez sur l’axe des y."
   ]
  },
  {
   "cell_type": "code",
   "execution_count": null,
   "id": "ea8bb507",
   "metadata": {},
   "outputs": [],
   "source": [
    "import matplotlib\n",
    "import matplotlib.pyplot as plot\n",
    "from dateutil import parser\n",
    "import numpy as np\n",
    "\n",
    "ptranslation = dataframe.loc[(dataframe[\"property\"] == \"P856\")]\n",
    "x = []\n",
    "y = []\n",
    "z = []\n",
    "for i in range(0, len(ptranslation[\"timestamp\"])):\n",
    "    # parsing the date in string and converting it to datetime\n",
    "    try:\n",
    "        value = parser.parse(ptranslation[\"timestamp\"].iloc[i])\n",
    "        x.append(value)\n",
    "    except Exception:\n",
    "        continue\n",
    "    y.append(ptranslation[\"type\"].iloc[i])\n",
    "    z.append(ptranslation[\"language\"].iloc[i])\n",
    "\n",
    "# creating  a plot\n",
    "plot.rcParams[\"figure.figsize\"] = (25, 9)\n",
    "colors = matplotlib.cm.rainbow(np.linspace(0, 1, 3))\n",
    "tcolors = {\"label\": colors[0], \"description\": colors[1], \"alias\": colors[2]}\n",
    "cs = [tcolors[i] for i in y]\n",
    "fig, ax = plot.subplots()\n",
    "ax.scatter(x, y, s=30, color=cs)\n",
    "\n",
    "plot.xlabel(\"Time\")\n",
    "plot.ylabel(\"Translation type\")\n",
    "\n",
    "# annotating  the points\n",
    "for i, txt in enumerate(z):\n",
    "    ax.annotate(txt, (x[i], y[i]))\n",
    "\n",
    "plot.show()"
   ]
  },
  {
   "cell_type": "markdown",
   "id": "885e5f32",
   "metadata": {},
   "source": [
    "Maintenant, nous traçons un autre graphique, cette fois-ci, la langue\n",
    "sur l’axe des y et le temps sur l’axe des x."
   ]
  },
  {
   "cell_type": "code",
   "execution_count": null,
   "id": "b5ea64bf",
   "metadata": {},
   "outputs": [],
   "source": [
    "import matplotlib\n",
    "import matplotlib.pyplot as plot\n",
    "from dateutil import parser\n",
    "import numpy as np\n",
    "\n",
    "ptranslation = dataframe.loc[(dataframe[\"property\"] == \"P279\")]\n",
    "x = []\n",
    "y = []\n",
    "z = []\n",
    "\n",
    "for i in range(0, len(ptranslation[\"timestamp\"])):\n",
    "    try:\n",
    "        # parsing the date in string and converting it to datetime\n",
    "        value = parser.parse(ptranslation[\"timestamp\"].iloc[i])\n",
    "        x.append(value)\n",
    "    except Exception:\n",
    "        continue\n",
    "    y.append(ptranslation[\"type\"].iloc[i])\n",
    "    z.append(ptranslation[\"language\"].iloc[i])\n",
    "\n",
    "# creating a plot\n",
    "colors = matplotlib.cm.rainbow(np.linspace(0, 1, 3))\n",
    "tcolors = {\"label\": colors[0], \"description\": colors[1], \"alias\": colors[2]}\n",
    "\n",
    "cs = [tcolors[i] for i in y]\n",
    "\n",
    "plot.rcParams[\"figure.figsize\"] = (25, 25)\n",
    "fig, ax = plot.subplots()\n",
    "ax.scatter(x, z, s=50, color=cs)\n",
    "\n",
    "plot.xlabel(\"Time\")\n",
    "plot.ylabel(\"Language\")\n",
    "\n",
    "# saving the plot in a file\n",
    "plot.savefig(\"translation.png\")\n",
    "plot.show()"
   ]
  },
  {
   "cell_type": "markdown",
   "id": "1da57cc5",
   "metadata": {},
   "source": [
    "Voici trois graphiques concernant les propriétés : P31, P279 et P856\n",
    "respectivement. Quelles sont vos observations sur les valeurs sur l’axe\n",
    "des y ? Veuillez les noter en tant que commentaires sur le notebook.\n",
    "Vous pouvez également constater que certains traductions peuvent même\n",
    "être effectuées en une seule fois. Veuillez vérifier une colonne de\n",
    "lignes rouges dans le premier graphique (P31)."
   ]
  },
  {
   "cell_type": "markdown",
   "id": "70663106",
   "metadata": {},
   "source": [
    "Dans le code donné ci-dessous, nous sélectionnons quelques langues et\n",
    "voyons l’ordre de traduction. Copiez le code ci-dessous et tracez les\n",
    "graphiques pour les différents propriétés. Veuillez noter vos\n",
    "observations."
   ]
  },
  {
   "cell_type": "code",
   "execution_count": null,
   "id": "99e725ce",
   "metadata": {},
   "outputs": [],
   "source": [
    "import matplotlib\n",
    "import matplotlib.pyplot as plot\n",
    "\n",
    "from dateutil import parser\n",
    "import numpy as np\n",
    "\n",
    "# list of languages under consideration\n",
    "langlist = [\"fr\", \"es\", \"en\", \"de\", \"it\", \"pt\", \"ja\"]\n",
    "ptranslation = dataframe.loc[\n",
    "    (dataframe[\"property\"] == \"P18\") & (dataframe[\"language\"].isin(langlist))\n",
    "]\n",
    "print(ptranslation)\n",
    "\n",
    "x = []\n",
    "y = []\n",
    "z = []\n",
    "\n",
    "for i in range(0, len(ptranslation[\"timestamp\"])):\n",
    "    try:\n",
    "        # parsing the date in string and converting it to datetime\n",
    "        value = parser.parse(ptranslation[\"timestamp\"].iloc[i])\n",
    "        x.append(value)\n",
    "    except Exception:\n",
    "        continue\n",
    "    y.append(ptranslation[\"type\"].iloc[i])\n",
    "    z.append(ptranslation[\"language\"].iloc[i])\n",
    "\n",
    "\n",
    "# creating  a plot\n",
    "colors = matplotlib.cm.rainbow(np.linspace(0, 1, 3))\n",
    "tcolors = {\"label\": colors[0], \"description\": colors[1], \"alias\": colors[2]}\n",
    "\n",
    "cs = [tcolors[i] for i in y]\n",
    "plot.rcParams[\"figure.figsize\"] = (10, 5)\n",
    "fig, ax = plot.subplots()\n",
    "ax.scatter(x, z, s=50, color=cs)\n",
    "\n",
    "plot.savefig(\"translation.png\")\n",
    "plot.show()"
   ]
  },
  {
   "cell_type": "markdown",
   "id": "4e821d19",
   "metadata": {},
   "source": [
    "## Exercice 7.2\n",
    "\n",
    "Nous avons utilisé des techniques de traçage pour détecter manuellement\n",
    "certains modes de traduction. Nous utilisons maintenant d’autres\n",
    "algorithmes pour voir si des groupes de les langues sont toujours\n",
    "présentes ensemble\n",
    "\n",
    "Avant de continuer, nous devons installer la bibliothèque *mlxtend*.\n",
    "\n",
    "                 !pip install mlxtend               \n",
    "\n",
    "Ensuite, nous préparons l’ensemble des données linguistiques. Nous nous\n",
    "concentrerons sur la traduction de labels de propriété. Nous créons une\n",
    "liste des traductions disponibles d’étiquettes de toutes les propriétés\n",
    "de notre base de données"
   ]
  },
  {
   "cell_type": "code",
   "execution_count": null,
   "id": "633c464d",
   "metadata": {},
   "outputs": [],
   "source": [
    "# prepare dataset of languages\n",
    "languageorder = []\n",
    "labeldataframe = dataframe.loc[(dataframe[\"type\"] == \"label\")]\n",
    "groups = labeldataframe.groupby([\"property\"])\n",
    "\n",
    "for k, group in groups:\n",
    "    languageorder.append(list(groups.get_group((k))[\"language\"]))\n",
    "\n",
    "print(languageorder)"
   ]
  },
  {
   "cell_type": "markdown",
   "id": "b8885ec4",
   "metadata": {},
   "source": [
    "Cela nous donnera le résultat suivant.\n",
    "\n",
    "```\n",
    "     [['en', 'it', 'fi', 'fr', 'de', 'zh-hans', 'ru', 'hu', 'he', 'nl', 'pt', 'pl', 'ca', 'cs', 'ilo', 'zh', 'nb', 'ko',..        \n",
    "```\n",
    "\n",
    "Maintenant, nous calculons les ensembles d’éléments fréquents en\n",
    "utilisant l’algorithme *apriori*. Veuillez décommenter la ligne print\n",
    "pour voir le dataframe intermédiaire."
   ]
  },
  {
   "cell_type": "code",
   "execution_count": null,
   "id": "54847502",
   "metadata": {},
   "outputs": [],
   "source": [
    "from mlxtend.preprocessing import TransactionEncoder\n",
    "from mlxtend.frequent_patterns import apriori\n",
    "\n",
    "te = TransactionEncoder()\n",
    "te_ary = te.fit(languageorder).transform(languageorder)\n",
    "\n",
    "# preparation of data frame\n",
    "df = pd.DataFrame(te_ary, columns=te.columns_)\n",
    "\n",
    "# print(df)\n",
    "# use of apriori algorithm\n",
    "frequent_itemsets = apriori(df, min_support=0.75, use_colnames=True)\n",
    "print(frequent_itemsets)"
   ]
  },
  {
   "cell_type": "markdown",
   "id": "3557a6e9",
   "metadata": {},
   "source": [
    "Le programme utilise un soutien minimum de 0,75. On voit que les labels\n",
    "anglais sont présents pour toutes les propriétés, alors que les labels\n",
    "français ne sont disponible pour 93% des propriétés. Sur la prise en\n",
    "compte des paires de langues, on constate que l’anglais et l’arabe sont\n",
    "présents dans 93% des traductions. En allant plus loin, nous constatons\n",
    "des combinaisons de 3, 4, 5 langues, etc.\n",
    "\n",
    "Veuillez changer cette valeur entre 0 et 1 et voyez le résultat.\n",
    "```\n",
    "      S.No.              support                itemsets\n",
    "      ------- ---------- ---------------------- ----------\n",
    "      0       0.998424   (ar)                   \n",
    "      1       0.759414   (ca)                   \n",
    "      2       1.000000   (en)                   \n",
    "      3       0.932409   (fr)                   \n",
    "      4       0.993540   (nl)                   \n",
    "      5       0.985978   (uk)                   \n",
    "      6       0.758626   (ar, ca)               \n",
    "      7       0.998424   (en, ar)               \n",
    "      8       0.931621   (ar, fr)               \n",
    "      9       0.992752   (nl, ar)               \n",
    "      10      0.985663   (ar, uk)               \n",
    "      11      0.759414   (en, ca)               \n",
    "      12      0.759256   (nl, ca)               \n",
    "      13      0.754215   (uk, ca)               \n",
    "      14      0.932409   (en, fr)               \n",
    "      15      0.993540   (nl, en)               \n",
    "      16      0.985978   (en, uk)               \n",
    "      17      0.931779   (nl, fr)               \n",
    "      18      0.928155   (uk, fr)               \n",
    "      19      0.985663   (nl, uk)               \n",
    "      20      0.758626   (en, ar, ca)           \n",
    "      21      0.758469   (nl, ar, ca)           \n",
    "      22      0.753899   (ar, uk, ca)           \n",
    "      23      0.931621   (en, ar, fr)           \n",
    "      24      0.992752   (nl, en, ar)           \n",
    "      25      0.985663   (en, ar, uk)           \n",
    "      26      0.931149   (nl, ar, fr)           \n",
    "      27      0.927997   (ar, uk, fr)           \n",
    "      28      0.985347   (nl, ar, uk)           \n",
    "      29      0.759256   (nl, en, ca)           \n",
    "      30      0.754215   (en, uk, ca)           \n",
    "      31      0.754057   (nl, uk, ca)           \n",
    "      32      0.931779   (nl, en, fr)           \n",
    "      33      0.928155   (en, uk, fr)           \n",
    "      34      0.985663   (nl, en, uk)           \n",
    "      35      0.927840   (nl, uk, fr)           \n",
    "      36      0.758469   (nl, en, ar, ca)       \n",
    "      37      0.753899   (en, ar, uk, ca)       \n",
    "      38      0.753742   (nl, ar, uk, ca)       \n",
    "      39      0.931149   (nl, en, ar, fr)       \n",
    "      40      0.927997   (en, ar, uk, fr)       \n",
    "      41      0.985347   (nl, en, ar, uk)       \n",
    "      42      0.927682   (nl, ar, uk, fr)       \n",
    "      43      0.754057   (nl, en, uk, ca)       \n",
    "      44      0.927840   (nl, en, uk, fr)       \n",
    "      45      0.753742   (ar, en, ca, nl, uk)   \n",
    "      46      0.927682   (ar, en, fr, nl, uk)   \n",
    "```\n",
    "Répétez l’expérience ci-dessus pour les descriptions et les alias. Quels\n",
    "sont vos observations. Veuillez les noter dans le notebook en tant que\n",
    "commentaires."
   ]
  },
  {
   "cell_type": "markdown",
   "id": "3d3d2af3",
   "metadata": {},
   "source": [
    "## Exercice 7.3\n",
    "\n",
    "Notre prochain objectif est de générer les règles d’association,\n",
    "c’est-à-dire les règles de la forme: *A -\\> C*, où A est l’antécédent et\n",
    "C est la conséquence."
   ]
  },
  {
   "cell_type": "code",
   "execution_count": null,
   "id": "8fe2238c",
   "metadata": {},
   "outputs": [],
   "source": [
    "from mlxtend.frequent_patterns import association_rules\n",
    "\n",
    "association_rules(frequent_itemsets, metric=\"confidence\", min_threshold=0.95)"
   ]
  },
  {
   "cell_type": "markdown",
   "id": "813e845f",
   "metadata": {},
   "source": [
    "Cela nous donnera le résultat suivant.\n",
    "```\n",
    "      S.No.   antecedents   consequents   antecedent support   consequent support   support    confidence   lift       leverage   conviction\n",
    "      ------- ------------- ------------- -------------------- -------------------- ---------- ------------ ---------- ---------- ------------\n",
    "      0       (de)          (en)          0.479193             0.988966             0.477932   0.997368     1.008496   0.004026   4.192938\n",
    "      1       (de)          (uk)          0.479193             0.960277             0.468789   0.978289     1.018757   0.008631   1.829646\n",
    "      2       (es)          (en)          0.389975             0.988966             0.388556   0.996362     1.007479   0.002884   3.033137\n",
    "      3       (fr)          (en)          0.713272             0.988966             0.708859   0.993812     1.004900   0.003457   1.783181\n",
    "      4       (it)          (en)          0.413934             0.988966             0.413146   0.998096     1.009232   0.003779   5.795082\n",
    "      5       (ru)          (en)          0.301387             0.988966             0.300441   0.996862     1.007984   0.002380   3.516183\n",
    "      6       (en)          (uk)          0.988966             0.960277             0.950189   0.960791     1.000534   0.000507   1.013087\n",
    "      7       (uk)          (en)          0.960277             0.988966             0.950189   0.989494     1.000534   0.000507   1.050303\n",
    "      8       (es)          (uk)          0.389975             0.960277             0.383039   0.982215     1.022845   0.008555   2.233492\n",
    "      9       (fr)          (uk)          0.713272             0.960277             0.689470   0.966630     1.006615   0.004531   1.190362\n",
    "      10      (it)          (uk)          0.413934             0.960277             0.405738   0.980198     1.020745   0.008246   2.005990\n",
    "      11      (ru)          (uk)          0.301387             0.960277             0.300126   0.995816     1.037009   0.010711   9.493695\n",
    "      12      (de, fr)      (en)          0.391393             0.988966             0.391078   0.999195     1.010343   0.004003   13.698770\n",
    "      13      (de, uk)      (en)          0.468789             0.988966             0.467686   0.997646     1.008777   0.004069   4.687894\n",
    "\n",
    "```\n",
    "Examinons l’une des règles d’association *(de, fr)-\\>(en)*. Le score de\n",
    "confiance est de 0,999195. Mais cette règle stipule que lorsque nous\n",
    "avons des traductions en français et en allemand seront disponibles,\n",
    "nous aurons également la traduction anglaise.\n",
    "\n",
    "Vous pouvez changer la métrique “lift” et tester.\n",
    "\n",
    "Nous allons maintenant ajouter deux colonnes qui contiendront la\n",
    "longueur des antécédents et ses conséquences. Comme vous l’avez\n",
    "peut-être remarqué, les règles d’association sont des dataframes. Nous\n",
    "pouvons donc facilement écrire des conditions de filtrage pour obtenir\n",
    "des antécédents et les conséquences d’une longueur supérieure à 1."
   ]
  },
  {
   "cell_type": "code",
   "execution_count": null,
   "id": "5e3ff735",
   "metadata": {},
   "outputs": [],
   "source": [
    "from mlxtend.frequent_patterns import association_rules\n",
    "\n",
    "arules = association_rules(frequent_itemsets, metric=\"confidence\", min_threshold=0.95)\n",
    "\n",
    "arules[\"antecedent_len\"] = arules[\"antecedents\"].apply(lambda x: len(x))\n",
    "arules[\"consequent_len\"] = arules[\"consequents\"].apply(lambda x: len(x))\n",
    "\n",
    "arules.loc[(arules[\"antecedent_len\"] > 1) & (arules[\"consequent_len\"] > 1)]"
   ]
  },
  {
   "cell_type": "markdown",
   "id": "2b00ce39",
   "metadata": {},
   "source": [
    "           \n",
    "```\n",
    "      S.No.   antecedents   consequents   antecedent support   consequent support   support    confidence   lift       leverage   conviction   antecedent\\_len   consequent\\_len\n",
    "      ------- ------------- ------------- -------------------- -------------------- ---------- ------------ ---------- ---------- ------------ ----------------- -----------------\n",
    "      32      (de, fr)      (en, uk)      0.391393             0.950189             0.383670   0.980266     1.031653   0.011772   2.524088     2                 2\n",
    "      35      (fr, es)      (en, uk)      0.332755             0.950189             0.326765   0.981999     1.033477   0.010585   2.767124     2                 2\n",
    "      38      (fr, it)      (en, uk)      0.345523             0.950189             0.338430   0.979471     1.030817   0.010117   2.426342     2                 2\n",
    "\n",
    "```\n",
    "Répétez l’expérience ci-dessus pour la traduction des descriptions et\n",
    "des alias. Veuillez noter vos observations sous forme de commentaires."
   ]
  },
  {
   "cell_type": "markdown",
   "id": "f75b7c9d",
   "metadata": {},
   "source": [
    "## Exercice 7.4\n",
    "\n",
    "Notre prochain objectif est de visualiser le flux de traduction. À cette\n",
    "fin, nous installons des packages networkx.\n"
   ]
  },
  {
   "cell_type": "code",
   "execution_count": null,
   "id": "874248b2-79f0-49a2-a9fc-464efc821de1",
   "metadata": {},
   "outputs": [],
   "source": [
    "!pip install networkx       "
   ]
  },
  {
   "cell_type": "markdown",
   "id": "5a55cc72-ccdb-4bcb-a632-fec93651154e",
   "metadata": {},
   "source": [
    "Tout d’abord, nous créons des groupes pour différentes traductions."
   ]
  },
  {
   "cell_type": "code",
   "execution_count": null,
   "id": "139c5b2a",
   "metadata": {},
   "outputs": [],
   "source": [
    "languageorder = []\n",
    "labeldataframe = dataframe.loc[(dataframe[\"type\"] == \"label\")]\n",
    "\n",
    "groups = labeldataframe.groupby([\"property\"])\n",
    "\n",
    "for k, group in groups:\n",
    "    languageorder.append(list(groups.get_group((k))[\"language\"]))\n",
    "\n",
    "languagepairs = []\n",
    "for lo in languageorder:\n",
    "    for i in range(0, len(lo) - 1):\n",
    "        languagepairs.append([lo[i], lo[i + 1], 1])\n",
    "\n",
    "lpdataframe = pd.DataFrame(languagepairs)\n",
    "lpdataframe.columns = [\"source\", \"target\", \"count\"]\n",
    "\n",
    "groups = lpdataframe.groupby([\"source\", \"target\"]).count().reset_index()\n",
    "\n",
    "print(groups)"
   ]
  },
  {
   "cell_type": "markdown",
   "id": "3bbe1e3e",
   "metadata": {},
   "source": [
    "Ensuite, nous les visualisons en utilisant un graphique circulaire.\n",
    "Notez le code ci-dessous, nous n’ont pris que 500 combinaisons de paires\n",
    "de langues."
   ]
  },
  {
   "cell_type": "code",
   "execution_count": null,
   "id": "a50e0787",
   "metadata": {},
   "outputs": [],
   "source": [
    "import networkx as nx\n",
    "import matplotlib.pyplot as plot\n",
    "\n",
    "G = nx.from_pandas_edgelist(groups[:500], \"source\", \"target\")\n",
    "\n",
    "plot.rcParams[\"figure.figsize\"] = (15, 15)\n",
    "\n",
    "pos = nx.circular_layout(G)\n",
    "\n",
    "nx.draw(G, pos, with_labels=True)"
   ]
  },
  {
   "cell_type": "markdown",
   "id": "677e8015",
   "metadata": {},
   "source": [
    "Copiez le code ci-dessus et vérifiez le flux des traductions pour toutes\n",
    "les langues de votre choix (nombre de langues \\> 20).\n",
    "\n",
    "Utilisez également la disposition des chords de Bokeh/Holoviews pour\n",
    "visualiser les poids."
   ]
  }
 ],
 "metadata": {
  "kernelspec": {
   "display_name": "Python 3 (ipykernel)",
   "language": "python",
   "name": "python3"
  },
  "language_info": {
   "codemirror_mode": {
    "name": "ipython",
    "version": 3
   },
   "file_extension": ".py",
   "mimetype": "text/x-python",
   "name": "python",
   "nbconvert_exporter": "python",
   "pygments_lexer": "ipython3",
   "version": "3.10.12"
  }
 },
 "nbformat": 4,
 "nbformat_minor": 5
}
