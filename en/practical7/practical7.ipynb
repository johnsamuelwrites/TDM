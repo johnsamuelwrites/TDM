{
 "cells": [
  {
   "cell_type": "markdown",
   "id": "02aab7a5-145b-4e99-9d4f-c6e13950f189",
   "metadata": {},
   "source": [
    "# Practical 7\n",
    "\n",
    "## Goals"
   ]
  }
 ],
 "metadata": {
  "kernelspec": {
   "display_name": "Python 3 (ipykernel)",
   "language": "python",
   "name": "python3"
  },
  "language_info": {
   "codemirror_mode": {
    "name": "ipython",
    "version": 3
   },
   "file_extension": ".py",
   "mimetype": "text/x-python",
   "name": "python",
   "nbconvert_exporter": "python",
   "pygments_lexer": "ipython3",
   "version": "3.10.12"
  }
 },
 "nbformat": 4,
 "nbformat_minor": 5
}
